{
 "cells": [
  {
   "cell_type": "markdown",
   "metadata": {},
   "source": [
    "# Group 2 Credit Card Report\n",
    "\n",
    "by \n",
    "Ajay Krishnan 400351861\n",
    "Jieyang Shi 400486491\n",
    "Warren Pulling 400329304\n",
    "Yidi Geng 400423487\n",
    "\n",
    "We want to understand if we can make any statistically meaningful inferences. We begin our journey by assuming the base presumptions are satisfied.\n",
    "  \n",
    "Our general approach is as follows:\n",
    "1. We set up a KNN and logistic regression model for classification as functions. We follow the approach discussed in class.\n",
    "2. We review the data and perform some data cleanup\n",
    "3. We visualize and describe each input to the model to understand our data profile.\n",
    "4. We run the KNN and logistic regression models. Since we have powerful computers at our disposal, we go ahead and run it for every single permutation of parameters to see what produces the best result. *It takes a long time to run, and many of the combinations, expectedly, produce non-sensical results as reflected in python warnings.\n",
    "5. We then see if a model based on a decision tree would be insightful.\n",
    "\n",
    "\n",
    "\n"
   ]
  },
  {
   "cell_type": "markdown",
   "metadata": {},
   "source": [
    "## Model Definition\n"
   ]
  },
  {
   "cell_type": "code",
   "execution_count": 1,
   "metadata": {},
   "outputs": [],
   "source": [
    "import pandas as pd\n",
    "\n",
    "\n",
    "def load_data():\n",
    "    return pd.read_csv('credit.csv')\n"
   ]
  },
  {
   "cell_type": "code",
   "execution_count": 2,
   "metadata": {},
   "outputs": [],
   "source": [
    "def clean_data(data_frame):\n",
    "    # missing values\n",
    "    data = data_frame.dropna()\n",
    "\n",
    "    # typo in data\n",
    "    data['education'].replace(\"univeristy\", \"university\", inplace=True)\n",
    "    data['education'].replace(\"highschool\", \"high school\", inplace=True)\n",
    "\n",
    "    # one-hot encoding\n",
    "    education_onehot = pd.get_dummies(data['education'])\n",
    "    gender_onehot = pd.get_dummies(data['gender'])\n",
    "    marital_onehot = pd.get_dummies(data['marital'])\n",
    "\n",
    "    data = pd.concat(\n",
    "        [data, education_onehot, gender_onehot, marital_onehot], axis=1)\n",
    "    data.drop(['education', 'gender', 'marital'], axis=1, inplace=True)\n",
    "\n",
    "    return data\n"
   ]
  },
  {
   "cell_type": "code",
   "execution_count": 3,
   "metadata": {},
   "outputs": [],
   "source": [
    "import itertools\n",
    "\n",
    "\n",
    "def get_combinations_for(input_parameters):\n",
    "    input_parameters = input_parameters.drop('id', 'default')\n",
    "    combinations = sum([list(map(list, itertools.combinations(\n",
    "        input_parameters, i))) for i in range(len(input_parameters) + 1)], [])\n",
    "    combinations.pop(0)  # remove empty array (0 elements)\n",
    "    return combinations\n"
   ]
  },
  {
   "cell_type": "code",
   "execution_count": 4,
   "metadata": {},
   "outputs": [],
   "source": [
    "from sklearn.preprocessing import StandardScaler\n",
    "from sklearn.neighbors import KNeighborsClassifier\n",
    "from sklearn.metrics import classification_report, confusion_matrix\n",
    "from sklearn.model_selection import train_test_split\n",
    "\n",
    "\n",
    "def run_knn_for(data, input_combination, num_neighbours):\n",
    "\n",
    "    X = data[[*input_combination]].values\n",
    "    y = data['default'].values\n",
    "\n",
    "    X_train, X_test, y_train, y_test = train_test_split(\n",
    "        X, y, test_size=0.2, random_state=420)\n",
    "\n",
    "    scaler = StandardScaler()\n",
    "    scaler.fit(X_train)\n",
    "    X_train = scaler.transform(X_train)\n",
    "    X_test = scaler.transform(X_test)\n",
    "\n",
    "    classifier = KNeighborsClassifier(n_neighbors=num_neighbours)\n",
    "    classifier.fit(X_train, y_train)\n",
    "\n",
    "    from sklearn.metrics import roc_curve\n",
    "    import matplotlib.pyplot as plt\n",
    "    pos_prob = classifier.predict_proba(X_test)[:, 1]\n",
    "    fpr, tpr, thresholds = roc_curve(y_test, pos_prob)\n",
    "    plt.subplot(2,1,1)\n",
    "    plt.plot(fpr, tpr)\n",
    "    plt.title('KNN ROC curve for default classifier')\n",
    "    plt.xlabel('False Positive Rate')\n",
    "    plt.ylabel('True Positive Rate')\n",
    "    plt.tight_layout(pad=4)\n",
    "    plt.grid()\n",
    "\n",
    "    y_pred = classifier.predict(X_test)\n",
    "    return classification_report(y_test, y_pred)\n",
    "   \n",
    "    \n"
   ]
  },
  {
   "cell_type": "code",
   "execution_count": 5,
   "metadata": {},
   "outputs": [],
   "source": [
    "from sklearn.preprocessing import StandardScaler\n",
    "from sklearn.metrics import classification_report, confusion_matrix\n",
    "from sklearn.linear_model import LogisticRegression\n",
    "from sklearn.model_selection import train_test_split\n",
    "\n",
    "\n",
    "def run_logistic_regression_for(data, input_combination):\n",
    "    X = data[[*input_combination]].values\n",
    "    y = data['default'].values\n",
    "\n",
    "    X_train, X_test, y_train, y_test = train_test_split(\n",
    "        X, y, test_size=0.2, random_state=420)\n",
    "\n",
    "    scaler = StandardScaler()\n",
    "    scaler.fit(X_train)\n",
    "    X_train = scaler.transform(X_train)\n",
    "    X_test = scaler.transform(X_test)\n",
    "\n",
    "    log_reg = LogisticRegression()\n",
    "    log_reg.fit(X_train, y_train)\n",
    "\n",
    "    from sklearn.metrics import roc_curve\n",
    "    import matplotlib.pyplot as plt\n",
    "    pos_prob = log_reg.predict_proba(X_test)[:, 1]\n",
    "    fpr, tpr, thresholds = roc_curve(y_test, pos_prob)\n",
    "    plt.subplot(2,1,2)\n",
    "    plt.plot(fpr, tpr)\n",
    "    plt.title('Logistic ROC curve for default classifier')\n",
    "    plt.xlabel('False Positive Rate')\n",
    "    plt.ylabel('True Positive Rate')\n",
    "    plt.grid()\n",
    "    \n",
    "    y_pred = log_reg.predict(X_test)\n",
    "\n",
    "    return classification_report(y_test, y_pred)\n"
   ]
  },
  {
   "cell_type": "markdown",
   "metadata": {},
   "source": [
    "# Data analysis and visualization"
   ]
  },
  {
   "cell_type": "code",
   "execution_count": 6,
   "metadata": {},
   "outputs": [
    {
     "data": {
      "text/html": [
       "<div>\n",
       "<style scoped>\n",
       "    .dataframe tbody tr th:only-of-type {\n",
       "        vertical-align: middle;\n",
       "    }\n",
       "\n",
       "    .dataframe tbody tr th {\n",
       "        vertical-align: top;\n",
       "    }\n",
       "\n",
       "    .dataframe thead th {\n",
       "        text-align: right;\n",
       "    }\n",
       "</style>\n",
       "<table border=\"1\" class=\"dataframe\">\n",
       "  <thead>\n",
       "    <tr style=\"text-align: right;\">\n",
       "      <th></th>\n",
       "      <th>credit</th>\n",
       "    </tr>\n",
       "    <tr>\n",
       "      <th>education</th>\n",
       "      <th></th>\n",
       "    </tr>\n",
       "  </thead>\n",
       "  <tbody>\n",
       "    <tr>\n",
       "      <th>graduate school</th>\n",
       "      <td>213153.546672</td>\n",
       "    </tr>\n",
       "    <tr>\n",
       "      <th>highschool</th>\n",
       "      <td>127739.555556</td>\n",
       "    </tr>\n",
       "    <tr>\n",
       "      <th>univeristy</th>\n",
       "      <td>147748.232578</td>\n",
       "    </tr>\n",
       "  </tbody>\n",
       "</table>\n",
       "</div>"
      ],
      "text/plain": [
       "                        credit\n",
       "education                     \n",
       "graduate school  213153.546672\n",
       "highschool       127739.555556\n",
       "univeristy       147748.232578"
      ]
     },
     "execution_count": 6,
     "metadata": {},
     "output_type": "execute_result"
    }
   ],
   "source": [
    "data = load_data()\n",
    "\n",
    "obj_var = data[['credit']]. groupby([data['education']])\n",
    "obj_var.mean()\n",
    "# to prove that people have higher level of education have higher credit limit\n"
   ]
  },
  {
   "cell_type": "code",
   "execution_count": 7,
   "metadata": {},
   "outputs": [
    {
     "data": {
      "text/html": [
       "<div>\n",
       "<style scoped>\n",
       "    .dataframe tbody tr th:only-of-type {\n",
       "        vertical-align: middle;\n",
       "    }\n",
       "\n",
       "    .dataframe tbody tr th {\n",
       "        vertical-align: top;\n",
       "    }\n",
       "\n",
       "    .dataframe thead th {\n",
       "        text-align: right;\n",
       "    }\n",
       "</style>\n",
       "<table border=\"1\" class=\"dataframe\">\n",
       "  <thead>\n",
       "    <tr style=\"text-align: right;\">\n",
       "      <th></th>\n",
       "      <th>credit</th>\n",
       "    </tr>\n",
       "    <tr>\n",
       "      <th>gender</th>\n",
       "      <th></th>\n",
       "    </tr>\n",
       "  </thead>\n",
       "  <tbody>\n",
       "    <tr>\n",
       "      <th>Female</th>\n",
       "      <td>170626.336138</td>\n",
       "    </tr>\n",
       "    <tr>\n",
       "      <th>Male</th>\n",
       "      <td>164246.019870</td>\n",
       "    </tr>\n",
       "  </tbody>\n",
       "</table>\n",
       "</div>"
      ],
      "text/plain": [
       "               credit\n",
       "gender               \n",
       "Female  170626.336138\n",
       "Male    164246.019870"
      ]
     },
     "execution_count": 7,
     "metadata": {},
     "output_type": "execute_result"
    }
   ],
   "source": [
    "obj_var = data[['credit']]. groupby([data['gender']])\n",
    "obj_var.mean()\n",
    "# on average, female have higher credit limit than man\n"
   ]
  },
  {
   "cell_type": "code",
   "execution_count": 8,
   "metadata": {},
   "outputs": [
    {
     "data": {
      "text/html": [
       "<div>\n",
       "<style scoped>\n",
       "    .dataframe tbody tr th:only-of-type {\n",
       "        vertical-align: middle;\n",
       "    }\n",
       "\n",
       "    .dataframe tbody tr th {\n",
       "        vertical-align: top;\n",
       "    }\n",
       "\n",
       "    .dataframe thead th {\n",
       "        text-align: right;\n",
       "    }\n",
       "</style>\n",
       "<table border=\"1\" class=\"dataframe\">\n",
       "  <thead>\n",
       "    <tr style=\"text-align: right;\">\n",
       "      <th></th>\n",
       "      <th>delayed</th>\n",
       "    </tr>\n",
       "    <tr>\n",
       "      <th>education</th>\n",
       "      <th></th>\n",
       "    </tr>\n",
       "  </thead>\n",
       "  <tbody>\n",
       "    <tr>\n",
       "      <th>graduate school</th>\n",
       "      <td>1.279746</td>\n",
       "    </tr>\n",
       "    <tr>\n",
       "      <th>highschool</th>\n",
       "      <td>2.062055</td>\n",
       "    </tr>\n",
       "    <tr>\n",
       "      <th>univeristy</th>\n",
       "      <td>1.907950</td>\n",
       "    </tr>\n",
       "  </tbody>\n",
       "</table>\n",
       "</div>"
      ],
      "text/plain": [
       "                  delayed\n",
       "education                \n",
       "graduate school  1.279746\n",
       "highschool       2.062055\n",
       "univeristy       1.907950"
      ]
     },
     "execution_count": 8,
     "metadata": {},
     "output_type": "execute_result"
    }
   ],
   "source": [
    "obj_var = data[['delayed']]. groupby([data['education']])\n",
    "obj_var.mean()\n",
    "# to prove that people have higher level of education have less times of delay\n"
   ]
  },
  {
   "cell_type": "code",
   "execution_count": 9,
   "metadata": {},
   "outputs": [
    {
     "data": {
      "text/html": [
       "<div>\n",
       "<style scoped>\n",
       "    .dataframe tbody tr th:only-of-type {\n",
       "        vertical-align: middle;\n",
       "    }\n",
       "\n",
       "    .dataframe tbody tr th {\n",
       "        vertical-align: top;\n",
       "    }\n",
       "\n",
       "    .dataframe thead th {\n",
       "        text-align: right;\n",
       "    }\n",
       "</style>\n",
       "<table border=\"1\" class=\"dataframe\">\n",
       "  <thead>\n",
       "    <tr style=\"text-align: right;\">\n",
       "      <th></th>\n",
       "      <th>delayed</th>\n",
       "    </tr>\n",
       "    <tr>\n",
       "      <th>gender</th>\n",
       "      <th></th>\n",
       "    </tr>\n",
       "  </thead>\n",
       "  <tbody>\n",
       "    <tr>\n",
       "      <th>Female</th>\n",
       "      <td>1.559472</td>\n",
       "    </tr>\n",
       "    <tr>\n",
       "      <th>Male</th>\n",
       "      <td>1.929417</td>\n",
       "    </tr>\n",
       "  </tbody>\n",
       "</table>\n",
       "</div>"
      ],
      "text/plain": [
       "         delayed\n",
       "gender          \n",
       "Female  1.559472\n",
       "Male    1.929417"
      ]
     },
     "execution_count": 9,
     "metadata": {},
     "output_type": "execute_result"
    }
   ],
   "source": [
    "obj_var = data[['delayed']]. groupby([data['gender']])\n",
    "obj_var.mean()\n",
    "# on average, female have less time of delay than man\n"
   ]
  },
  {
   "cell_type": "code",
   "execution_count": 10,
   "metadata": {},
   "outputs": [
    {
     "data": {
      "text/html": [
       "<div>\n",
       "<style scoped>\n",
       "    .dataframe tbody tr th:only-of-type {\n",
       "        vertical-align: middle;\n",
       "    }\n",
       "\n",
       "    .dataframe tbody tr th {\n",
       "        vertical-align: top;\n",
       "    }\n",
       "\n",
       "    .dataframe thead th {\n",
       "        text-align: right;\n",
       "    }\n",
       "</style>\n",
       "<table border=\"1\" class=\"dataframe\">\n",
       "  <thead>\n",
       "    <tr style=\"text-align: right;\">\n",
       "      <th></th>\n",
       "      <th>id</th>\n",
       "      <th>credit</th>\n",
       "      <th>delayed</th>\n",
       "      <th>amount</th>\n",
       "      <th>gender</th>\n",
       "      <th>education</th>\n",
       "      <th>age</th>\n",
       "      <th>marital</th>\n",
       "      <th>default</th>\n",
       "    </tr>\n",
       "  </thead>\n",
       "  <tbody>\n",
       "    <tr>\n",
       "      <th>0</th>\n",
       "      <td>25780</td>\n",
       "      <td>180000</td>\n",
       "      <td>2</td>\n",
       "      <td>699</td>\n",
       "      <td>Female</td>\n",
       "      <td>graduate school</td>\n",
       "      <td>39</td>\n",
       "      <td>married</td>\n",
       "      <td>1.0</td>\n",
       "    </tr>\n",
       "    <tr>\n",
       "      <th>8</th>\n",
       "      <td>17610</td>\n",
       "      <td>140000</td>\n",
       "      <td>0</td>\n",
       "      <td>684372</td>\n",
       "      <td>Female</td>\n",
       "      <td>univeristy</td>\n",
       "      <td>24</td>\n",
       "      <td>single</td>\n",
       "      <td>1.0</td>\n",
       "    </tr>\n",
       "    <tr>\n",
       "      <th>10</th>\n",
       "      <td>18641</td>\n",
       "      <td>450000</td>\n",
       "      <td>1</td>\n",
       "      <td>0</td>\n",
       "      <td>Female</td>\n",
       "      <td>highschool</td>\n",
       "      <td>56</td>\n",
       "      <td>married</td>\n",
       "      <td>1.0</td>\n",
       "    </tr>\n",
       "    <tr>\n",
       "      <th>17</th>\n",
       "      <td>11679</td>\n",
       "      <td>390000</td>\n",
       "      <td>0</td>\n",
       "      <td>764871</td>\n",
       "      <td>Female</td>\n",
       "      <td>highschool</td>\n",
       "      <td>28</td>\n",
       "      <td>married</td>\n",
       "      <td>1.0</td>\n",
       "    </tr>\n",
       "    <tr>\n",
       "      <th>19</th>\n",
       "      <td>16387</td>\n",
       "      <td>360000</td>\n",
       "      <td>0</td>\n",
       "      <td>0</td>\n",
       "      <td>Female</td>\n",
       "      <td>highschool</td>\n",
       "      <td>50</td>\n",
       "      <td>married</td>\n",
       "      <td>1.0</td>\n",
       "    </tr>\n",
       "    <tr>\n",
       "      <th>...</th>\n",
       "      <td>...</td>\n",
       "      <td>...</td>\n",
       "      <td>...</td>\n",
       "      <td>...</td>\n",
       "      <td>...</td>\n",
       "      <td>...</td>\n",
       "      <td>...</td>\n",
       "      <td>...</td>\n",
       "      <td>...</td>\n",
       "    </tr>\n",
       "    <tr>\n",
       "      <th>29143</th>\n",
       "      <td>27181</td>\n",
       "      <td>500000</td>\n",
       "      <td>0</td>\n",
       "      <td>5222</td>\n",
       "      <td>Male</td>\n",
       "      <td>graduate school</td>\n",
       "      <td>40</td>\n",
       "      <td>married</td>\n",
       "      <td>1.0</td>\n",
       "    </tr>\n",
       "    <tr>\n",
       "      <th>29144</th>\n",
       "      <td>28284</td>\n",
       "      <td>50000</td>\n",
       "      <td>0</td>\n",
       "      <td>241130</td>\n",
       "      <td>Female</td>\n",
       "      <td>univeristy</td>\n",
       "      <td>24</td>\n",
       "      <td>single</td>\n",
       "      <td>1.0</td>\n",
       "    </tr>\n",
       "    <tr>\n",
       "      <th>29145</th>\n",
       "      <td>3032</td>\n",
       "      <td>30000</td>\n",
       "      <td>0</td>\n",
       "      <td>27560</td>\n",
       "      <td>Female</td>\n",
       "      <td>univeristy</td>\n",
       "      <td>23</td>\n",
       "      <td>single</td>\n",
       "      <td>1.0</td>\n",
       "    </tr>\n",
       "    <tr>\n",
       "      <th>29156</th>\n",
       "      <td>6308</td>\n",
       "      <td>50000</td>\n",
       "      <td>2</td>\n",
       "      <td>278977</td>\n",
       "      <td>Female</td>\n",
       "      <td>highschool</td>\n",
       "      <td>47</td>\n",
       "      <td>married</td>\n",
       "      <td>1.0</td>\n",
       "    </tr>\n",
       "    <tr>\n",
       "      <th>29161</th>\n",
       "      <td>3287</td>\n",
       "      <td>80000</td>\n",
       "      <td>5</td>\n",
       "      <td>19302</td>\n",
       "      <td>Female</td>\n",
       "      <td>graduate school</td>\n",
       "      <td>32</td>\n",
       "      <td>married</td>\n",
       "      <td>1.0</td>\n",
       "    </tr>\n",
       "  </tbody>\n",
       "</table>\n",
       "<p>6510 rows × 9 columns</p>\n",
       "</div>"
      ],
      "text/plain": [
       "          id  credit  delayed  amount  gender        education  age  marital  \\\n",
       "0      25780  180000        2     699  Female  graduate school   39  married   \n",
       "8      17610  140000        0  684372  Female       univeristy   24   single   \n",
       "10     18641  450000        1       0  Female       highschool   56  married   \n",
       "17     11679  390000        0  764871  Female       highschool   28  married   \n",
       "19     16387  360000        0       0  Female       highschool   50  married   \n",
       "...      ...     ...      ...     ...     ...              ...  ...      ...   \n",
       "29143  27181  500000        0    5222    Male  graduate school   40  married   \n",
       "29144  28284   50000        0  241130  Female       univeristy   24   single   \n",
       "29145   3032   30000        0   27560  Female       univeristy   23   single   \n",
       "29156   6308   50000        2  278977  Female       highschool   47  married   \n",
       "29161   3287   80000        5   19302  Female  graduate school   32  married   \n",
       "\n",
       "       default  \n",
       "0          1.0  \n",
       "8          1.0  \n",
       "10         1.0  \n",
       "17         1.0  \n",
       "19         1.0  \n",
       "...        ...  \n",
       "29143      1.0  \n",
       "29144      1.0  \n",
       "29145      1.0  \n",
       "29156      1.0  \n",
       "29161      1.0  \n",
       "\n",
       "[6510 rows x 9 columns]"
      ]
     },
     "execution_count": 10,
     "metadata": {},
     "output_type": "execute_result"
    }
   ],
   "source": [
    "default = data[data['default'] == 1]\n",
    "default\n"
   ]
  },
  {
   "cell_type": "code",
   "execution_count": 11,
   "metadata": {},
   "outputs": [
    {
     "data": {
      "text/html": [
       "<div>\n",
       "<style scoped>\n",
       "    .dataframe tbody tr th:only-of-type {\n",
       "        vertical-align: middle;\n",
       "    }\n",
       "\n",
       "    .dataframe tbody tr th {\n",
       "        vertical-align: top;\n",
       "    }\n",
       "\n",
       "    .dataframe thead th {\n",
       "        text-align: right;\n",
       "    }\n",
       "</style>\n",
       "<table border=\"1\" class=\"dataframe\">\n",
       "  <thead>\n",
       "    <tr style=\"text-align: right;\">\n",
       "      <th></th>\n",
       "      <th>id</th>\n",
       "      <th>credit</th>\n",
       "      <th>delayed</th>\n",
       "      <th>amount</th>\n",
       "      <th>gender</th>\n",
       "      <th>education</th>\n",
       "      <th>age</th>\n",
       "      <th>marital</th>\n",
       "      <th>default</th>\n",
       "    </tr>\n",
       "  </thead>\n",
       "  <tbody>\n",
       "    <tr>\n",
       "      <th>1</th>\n",
       "      <td>7679</td>\n",
       "      <td>50000</td>\n",
       "      <td>0</td>\n",
       "      <td>15925</td>\n",
       "      <td>Female</td>\n",
       "      <td>graduate school</td>\n",
       "      <td>25</td>\n",
       "      <td>single</td>\n",
       "      <td>0.0</td>\n",
       "    </tr>\n",
       "    <tr>\n",
       "      <th>2</th>\n",
       "      <td>19690</td>\n",
       "      <td>210000</td>\n",
       "      <td>1</td>\n",
       "      <td>0</td>\n",
       "      <td>Male</td>\n",
       "      <td>univeristy</td>\n",
       "      <td>35</td>\n",
       "      <td>single</td>\n",
       "      <td>0.0</td>\n",
       "    </tr>\n",
       "    <tr>\n",
       "      <th>3</th>\n",
       "      <td>906</td>\n",
       "      <td>50000</td>\n",
       "      <td>0</td>\n",
       "      <td>26889</td>\n",
       "      <td>Female</td>\n",
       "      <td>univeristy</td>\n",
       "      <td>38</td>\n",
       "      <td>married</td>\n",
       "      <td>0.0</td>\n",
       "    </tr>\n",
       "    <tr>\n",
       "      <th>4</th>\n",
       "      <td>191</td>\n",
       "      <td>50000</td>\n",
       "      <td>4</td>\n",
       "      <td>276076</td>\n",
       "      <td>Female</td>\n",
       "      <td>univeristy</td>\n",
       "      <td>24</td>\n",
       "      <td>single</td>\n",
       "      <td>0.0</td>\n",
       "    </tr>\n",
       "    <tr>\n",
       "      <th>5</th>\n",
       "      <td>6396</td>\n",
       "      <td>200000</td>\n",
       "      <td>0</td>\n",
       "      <td>0</td>\n",
       "      <td>Female</td>\n",
       "      <td>univeristy</td>\n",
       "      <td>26</td>\n",
       "      <td>single</td>\n",
       "      <td>0.0</td>\n",
       "    </tr>\n",
       "    <tr>\n",
       "      <th>...</th>\n",
       "      <td>...</td>\n",
       "      <td>...</td>\n",
       "      <td>...</td>\n",
       "      <td>...</td>\n",
       "      <td>...</td>\n",
       "      <td>...</td>\n",
       "      <td>...</td>\n",
       "      <td>...</td>\n",
       "      <td>...</td>\n",
       "    </tr>\n",
       "    <tr>\n",
       "      <th>29157</th>\n",
       "      <td>6368</td>\n",
       "      <td>180000</td>\n",
       "      <td>0</td>\n",
       "      <td>76899</td>\n",
       "      <td>Female</td>\n",
       "      <td>univeristy</td>\n",
       "      <td>36</td>\n",
       "      <td>married</td>\n",
       "      <td>0.0</td>\n",
       "    </tr>\n",
       "    <tr>\n",
       "      <th>29158</th>\n",
       "      <td>1903</td>\n",
       "      <td>50000</td>\n",
       "      <td>0</td>\n",
       "      <td>78568</td>\n",
       "      <td>Female</td>\n",
       "      <td>highschool</td>\n",
       "      <td>47</td>\n",
       "      <td>married</td>\n",
       "      <td>0.0</td>\n",
       "    </tr>\n",
       "    <tr>\n",
       "      <th>29159</th>\n",
       "      <td>3008</td>\n",
       "      <td>290000</td>\n",
       "      <td>0</td>\n",
       "      <td>1808295</td>\n",
       "      <td>Female</td>\n",
       "      <td>univeristy</td>\n",
       "      <td>34</td>\n",
       "      <td>single</td>\n",
       "      <td>0.0</td>\n",
       "    </tr>\n",
       "    <tr>\n",
       "      <th>29160</th>\n",
       "      <td>26638</td>\n",
       "      <td>500000</td>\n",
       "      <td>1</td>\n",
       "      <td>0</td>\n",
       "      <td>Female</td>\n",
       "      <td>graduate school</td>\n",
       "      <td>44</td>\n",
       "      <td>married</td>\n",
       "      <td>0.0</td>\n",
       "    </tr>\n",
       "    <tr>\n",
       "      <th>29162</th>\n",
       "      <td>7241</td>\n",
       "      <td>50000</td>\n",
       "      <td>0</td>\n",
       "      <td>807</td>\n",
       "      <td>Female</td>\n",
       "      <td>graduate school</td>\n",
       "      <td>23</td>\n",
       "      <td>single</td>\n",
       "      <td>0.0</td>\n",
       "    </tr>\n",
       "  </tbody>\n",
       "</table>\n",
       "<p>22633 rows × 9 columns</p>\n",
       "</div>"
      ],
      "text/plain": [
       "          id  credit  delayed   amount  gender        education  age  marital  \\\n",
       "1       7679   50000        0    15925  Female  graduate school   25   single   \n",
       "2      19690  210000        1        0    Male       univeristy   35   single   \n",
       "3        906   50000        0    26889  Female       univeristy   38  married   \n",
       "4        191   50000        4   276076  Female       univeristy   24   single   \n",
       "5       6396  200000        0        0  Female       univeristy   26   single   \n",
       "...      ...     ...      ...      ...     ...              ...  ...      ...   \n",
       "29157   6368  180000        0    76899  Female       univeristy   36  married   \n",
       "29158   1903   50000        0    78568  Female       highschool   47  married   \n",
       "29159   3008  290000        0  1808295  Female       univeristy   34   single   \n",
       "29160  26638  500000        1        0  Female  graduate school   44  married   \n",
       "29162   7241   50000        0      807  Female  graduate school   23   single   \n",
       "\n",
       "       default  \n",
       "1          0.0  \n",
       "2          0.0  \n",
       "3          0.0  \n",
       "4          0.0  \n",
       "5          0.0  \n",
       "...        ...  \n",
       "29157      0.0  \n",
       "29158      0.0  \n",
       "29159      0.0  \n",
       "29160      0.0  \n",
       "29162      0.0  \n",
       "\n",
       "[22633 rows x 9 columns]"
      ]
     },
     "execution_count": 11,
     "metadata": {},
     "output_type": "execute_result"
    }
   ],
   "source": [
    "not_default = data[data['default'] == 0]\n",
    "not_default\n"
   ]
  },
  {
   "cell_type": "code",
   "execution_count": 12,
   "metadata": {},
   "outputs": [
    {
     "data": {
      "image/png": "[encoded data removed]",
      "text/plain": [
       "<Figure size 432x288 with 1 Axes>"
      ]
     },
     "metadata": {
      "needs_background": "light"
     },
     "output_type": "display_data"
    }
   ],
   "source": [
    "import matplotlib.pyplot as plt\n",
    "plt.boxplot([default['delayed'], not_default['delayed']],\n",
    "            patch_artist=True, labels=['default', 'not defualt'])\n",
    "plt.title('default vs. not default delay time Distributions')\n",
    "plt.show()\n",
    "# prove that higher times of delay will lead to credit default\n"
   ]
  },
  {
   "cell_type": "code",
   "execution_count": 13,
   "metadata": {},
   "outputs": [
    {
     "data": {
      "image/png": "[encoded data removed]",
      "text/plain": [
       "<Figure size 432x288 with 1 Axes>"
      ]
     },
     "metadata": {
      "needs_background": "light"
     },
     "output_type": "display_data"
    }
   ],
   "source": [
    "plt.hist(default['age'], bins=10)\n",
    "plt.show()\n",
    "# people between 20 and 35 are most likely to default. After 35, the older, the less likely\n"
   ]
  },
  {
   "cell_type": "code",
   "execution_count": 14,
   "metadata": {},
   "outputs": [
    {
     "data": {
      "text/html": [
       "<div>\n",
       "<style scoped>\n",
       "    .dataframe tbody tr th:only-of-type {\n",
       "        vertical-align: middle;\n",
       "    }\n",
       "\n",
       "    .dataframe tbody tr th {\n",
       "        vertical-align: top;\n",
       "    }\n",
       "\n",
       "    .dataframe thead th {\n",
       "        text-align: right;\n",
       "    }\n",
       "</style>\n",
       "<table border=\"1\" class=\"dataframe\">\n",
       "  <thead>\n",
       "    <tr style=\"text-align: right;\">\n",
       "      <th></th>\n",
       "      <th>id</th>\n",
       "      <th>credit</th>\n",
       "      <th>delayed</th>\n",
       "      <th>amount</th>\n",
       "      <th>gender</th>\n",
       "      <th>education</th>\n",
       "      <th>age</th>\n",
       "      <th>marital</th>\n",
       "      <th>default</th>\n",
       "    </tr>\n",
       "  </thead>\n",
       "  <tbody>\n",
       "    <tr>\n",
       "      <th>0</th>\n",
       "      <td>25780</td>\n",
       "      <td>180000</td>\n",
       "      <td>2</td>\n",
       "      <td>699</td>\n",
       "      <td>Female</td>\n",
       "      <td>graduate school</td>\n",
       "      <td>39</td>\n",
       "      <td>married</td>\n",
       "      <td>1.0</td>\n",
       "    </tr>\n",
       "    <tr>\n",
       "      <th>1</th>\n",
       "      <td>7679</td>\n",
       "      <td>50000</td>\n",
       "      <td>0</td>\n",
       "      <td>15925</td>\n",
       "      <td>Female</td>\n",
       "      <td>graduate school</td>\n",
       "      <td>25</td>\n",
       "      <td>single</td>\n",
       "      <td>0.0</td>\n",
       "    </tr>\n",
       "    <tr>\n",
       "      <th>2</th>\n",
       "      <td>19690</td>\n",
       "      <td>210000</td>\n",
       "      <td>1</td>\n",
       "      <td>0</td>\n",
       "      <td>Male</td>\n",
       "      <td>univeristy</td>\n",
       "      <td>35</td>\n",
       "      <td>single</td>\n",
       "      <td>0.0</td>\n",
       "    </tr>\n",
       "    <tr>\n",
       "      <th>3</th>\n",
       "      <td>906</td>\n",
       "      <td>50000</td>\n",
       "      <td>0</td>\n",
       "      <td>26889</td>\n",
       "      <td>Female</td>\n",
       "      <td>univeristy</td>\n",
       "      <td>38</td>\n",
       "      <td>married</td>\n",
       "      <td>0.0</td>\n",
       "    </tr>\n",
       "    <tr>\n",
       "      <th>4</th>\n",
       "      <td>191</td>\n",
       "      <td>50000</td>\n",
       "      <td>4</td>\n",
       "      <td>276076</td>\n",
       "      <td>Female</td>\n",
       "      <td>univeristy</td>\n",
       "      <td>24</td>\n",
       "      <td>single</td>\n",
       "      <td>0.0</td>\n",
       "    </tr>\n",
       "    <tr>\n",
       "      <th>...</th>\n",
       "      <td>...</td>\n",
       "      <td>...</td>\n",
       "      <td>...</td>\n",
       "      <td>...</td>\n",
       "      <td>...</td>\n",
       "      <td>...</td>\n",
       "      <td>...</td>\n",
       "      <td>...</td>\n",
       "      <td>...</td>\n",
       "    </tr>\n",
       "    <tr>\n",
       "      <th>29158</th>\n",
       "      <td>1903</td>\n",
       "      <td>50000</td>\n",
       "      <td>0</td>\n",
       "      <td>78568</td>\n",
       "      <td>Female</td>\n",
       "      <td>highschool</td>\n",
       "      <td>47</td>\n",
       "      <td>married</td>\n",
       "      <td>0.0</td>\n",
       "    </tr>\n",
       "    <tr>\n",
       "      <th>29159</th>\n",
       "      <td>3008</td>\n",
       "      <td>290000</td>\n",
       "      <td>0</td>\n",
       "      <td>1808295</td>\n",
       "      <td>Female</td>\n",
       "      <td>univeristy</td>\n",
       "      <td>34</td>\n",
       "      <td>single</td>\n",
       "      <td>0.0</td>\n",
       "    </tr>\n",
       "    <tr>\n",
       "      <th>29160</th>\n",
       "      <td>26638</td>\n",
       "      <td>500000</td>\n",
       "      <td>1</td>\n",
       "      <td>0</td>\n",
       "      <td>Female</td>\n",
       "      <td>graduate school</td>\n",
       "      <td>44</td>\n",
       "      <td>married</td>\n",
       "      <td>0.0</td>\n",
       "    </tr>\n",
       "    <tr>\n",
       "      <th>29161</th>\n",
       "      <td>3287</td>\n",
       "      <td>80000</td>\n",
       "      <td>5</td>\n",
       "      <td>19302</td>\n",
       "      <td>Female</td>\n",
       "      <td>graduate school</td>\n",
       "      <td>32</td>\n",
       "      <td>married</td>\n",
       "      <td>1.0</td>\n",
       "    </tr>\n",
       "    <tr>\n",
       "      <th>29162</th>\n",
       "      <td>7241</td>\n",
       "      <td>50000</td>\n",
       "      <td>0</td>\n",
       "      <td>807</td>\n",
       "      <td>Female</td>\n",
       "      <td>graduate school</td>\n",
       "      <td>23</td>\n",
       "      <td>single</td>\n",
       "      <td>0.0</td>\n",
       "    </tr>\n",
       "  </tbody>\n",
       "</table>\n",
       "<p>29163 rows × 9 columns</p>\n",
       "</div>"
      ],
      "text/plain": [
       "          id  credit  delayed   amount  gender        education  age  marital  \\\n",
       "0      25780  180000        2      699  Female  graduate school   39  married   \n",
       "1       7679   50000        0    15925  Female  graduate school   25   single   \n",
       "2      19690  210000        1        0    Male       univeristy   35   single   \n",
       "3        906   50000        0    26889  Female       univeristy   38  married   \n",
       "4        191   50000        4   276076  Female       univeristy   24   single   \n",
       "...      ...     ...      ...      ...     ...              ...  ...      ...   \n",
       "29158   1903   50000        0    78568  Female       highschool   47  married   \n",
       "29159   3008  290000        0  1808295  Female       univeristy   34   single   \n",
       "29160  26638  500000        1        0  Female  graduate school   44  married   \n",
       "29161   3287   80000        5    19302  Female  graduate school   32  married   \n",
       "29162   7241   50000        0      807  Female  graduate school   23   single   \n",
       "\n",
       "       default  \n",
       "0          1.0  \n",
       "1          0.0  \n",
       "2          0.0  \n",
       "3          0.0  \n",
       "4          0.0  \n",
       "...        ...  \n",
       "29158      0.0  \n",
       "29159      0.0  \n",
       "29160      0.0  \n",
       "29161      1.0  \n",
       "29162      0.0  \n",
       "\n",
       "[29163 rows x 9 columns]"
      ]
     },
     "execution_count": 14,
     "metadata": {},
     "output_type": "execute_result"
    }
   ],
   "source": [
    "data\n"
   ]
  },
  {
   "cell_type": "code",
   "execution_count": 15,
   "metadata": {},
   "outputs": [
    {
     "data": {
      "text/plain": [
       "232"
      ]
     },
     "execution_count": 15,
     "metadata": {},
     "output_type": "execute_result"
    }
   ],
   "source": [
    "# Age Outlier\n",
    "data['age'].max()\n"
   ]
  },
  {
   "cell_type": "code",
   "execution_count": 16,
   "metadata": {},
   "outputs": [
    {
     "data": {
      "text/html": [
       "<div>\n",
       "<style scoped>\n",
       "    .dataframe tbody tr th:only-of-type {\n",
       "        vertical-align: middle;\n",
       "    }\n",
       "\n",
       "    .dataframe tbody tr th {\n",
       "        vertical-align: top;\n",
       "    }\n",
       "\n",
       "    .dataframe thead th {\n",
       "        text-align: right;\n",
       "    }\n",
       "</style>\n",
       "<table border=\"1\" class=\"dataframe\">\n",
       "  <thead>\n",
       "    <tr style=\"text-align: right;\">\n",
       "      <th></th>\n",
       "      <th>id</th>\n",
       "      <th>credit</th>\n",
       "      <th>delayed</th>\n",
       "      <th>amount</th>\n",
       "      <th>gender</th>\n",
       "      <th>education</th>\n",
       "      <th>age</th>\n",
       "      <th>marital</th>\n",
       "      <th>default</th>\n",
       "    </tr>\n",
       "  </thead>\n",
       "  <tbody>\n",
       "    <tr>\n",
       "      <th>24373</th>\n",
       "      <td>13273</td>\n",
       "      <td>180000</td>\n",
       "      <td>0</td>\n",
       "      <td>47837</td>\n",
       "      <td>Female</td>\n",
       "      <td>graduate school</td>\n",
       "      <td>232</td>\n",
       "      <td>single</td>\n",
       "      <td>0.0</td>\n",
       "    </tr>\n",
       "  </tbody>\n",
       "</table>\n",
       "</div>"
      ],
      "text/plain": [
       "          id  credit  delayed  amount  gender        education  age marital  \\\n",
       "24373  13273  180000        0   47837  Female  graduate school  232  single   \n",
       "\n",
       "       default  \n",
       "24373      0.0  "
      ]
     },
     "execution_count": 16,
     "metadata": {},
     "output_type": "execute_result"
    }
   ],
   "source": [
    "# Identifying row with bad data\n",
    "\n",
    "data[data['age'] == 232]\n"
   ]
  },
  {
   "cell_type": "code",
   "execution_count": 17,
   "metadata": {},
   "outputs": [],
   "source": [
    "# Deleting bad row\n",
    "\n",
    "data.drop(24373, inplace=True)\n"
   ]
  },
  {
   "cell_type": "code",
   "execution_count": 18,
   "metadata": {},
   "outputs": [
    {
     "data": {
      "text/plain": [
       "79"
      ]
     },
     "execution_count": 18,
     "metadata": {},
     "output_type": "execute_result"
    }
   ],
   "source": [
    "# Confirming it was removed\n",
    "\n",
    "data['age'].max()\n"
   ]
  },
  {
   "cell_type": "code",
   "execution_count": 19,
   "metadata": {},
   "outputs": [],
   "source": [
    "# Seperating Data by Age\n",
    "\n",
    "age20to29 = data[(data['age'] < 30) & (data['age'] > 19)]\n",
    "age30to39 = data[(data['age'] < 40) & (data['age'] > 29)]\n",
    "age40to49 = data[(data['age'] < 50) & (data['age'] > 39)]\n",
    "age50to59 = data[(data['age'] < 60) & (data['age'] > 49)]\n",
    "age60to69 = data[(data['age'] < 70) & (data['age'] > 59)]\n",
    "age70to79 = data[(data['age'] < 80) & (data['age'] > 69)]\n"
   ]
  },
  {
   "cell_type": "code",
   "execution_count": 20,
   "metadata": {},
   "outputs": [],
   "source": [
    "# Pulling out the defaults in each age group\n",
    "\n",
    "age20to29_dflt = data[(data['age'] < 30) & (\n",
    "    data['age'] > 19) & (data['default'] == 1)]\n",
    "age30to39_dflt = data[(data['age'] < 40) & (\n",
    "    data['age'] > 29) & (data['default'] == 1)]\n",
    "age40to49_dflt = data[(data['age'] < 50) & (\n",
    "    data['age'] > 39) & (data['default'] == 1)]\n",
    "age50to59_dflt = data[(data['age'] < 60) & (\n",
    "    data['age'] > 49) & (data['default'] == 1)]\n",
    "age60to69_dflt = data[(data['age'] < 70) & (\n",
    "    data['age'] > 59) & (data['default'] == 1)]\n",
    "age70to79_dflt = data[(data['age'] < 80) & (\n",
    "    data['age'] > 69) & (data['default'] == 1)]\n"
   ]
  },
  {
   "cell_type": "code",
   "execution_count": 21,
   "metadata": {},
   "outputs": [],
   "source": [
    "# importing matplot\n",
    "\n",
    "\n",
    "import matplotlib.pyplot as plt\n",
    "from matplotlib.pyplot import figure\n"
   ]
  },
  {
   "cell_type": "code",
   "execution_count": 22,
   "metadata": {},
   "outputs": [
    {
     "data": {
      "image/png": "[encoded data removed]",
      "text/plain": [
       "<Figure size 864x288 with 2 Axes>"
      ]
     },
     "metadata": {
      "needs_background": "light"
     },
     "output_type": "display_data"
    }
   ],
   "source": [
    "# Age Box Plot Visualization\n",
    "# Divided by 100000 to better show distribution\n",
    "\n",
    "plt.figure(figsize=(12, 4))\n",
    "plt.subplot(1, 2, 1)\n",
    "plt.boxplot([age20to29['amount']/100000, age30to39['amount']/100000, age40to49['amount']/100000,\n",
    "            age50to59['amount']/100000, age60to69['amount']/100000, age70to79['amount']/100000],\n",
    "            labels=['20 to 29', '30 to 39', '40 to 49', '50 to 59', '60 to 69', '70 to 79'])\n",
    "plt.ylim(-2, 10)\n",
    "plt.ylabel('Dollars (100K)')\n",
    "plt.title('Amount Owing for all Borrowers')\n",
    "plt.subplot(1, 2, 2)\n",
    "plt.boxplot([age20to29_dflt['amount']/100000, age30to39_dflt['amount']/100000, age40to49_dflt['amount']/100000,\n",
    "            age50to59_dflt['amount']/100000, age60to69_dflt['amount']/100000, age70to79_dflt['amount']/100000],\n",
    "            labels=['20 to 29', '30 to 39', '40 to 49', '50 to 59', '60 to 69', '70 to 79'])\n",
    "plt.ylim(-2, 10)\n",
    "plt.ylabel('Dollars (100K)')\n",
    "plt.tight_layout(pad=2)\n",
    "plt.title('Amount Owing for all Defaulted Borrowers')\n",
    "plt.show()\n"
   ]
  },
  {
   "cell_type": "markdown",
   "metadata": {},
   "source": [
    "Box plots show similar mean debt amongst all age groups except 70 -79 year olds. However this was a smaller sample size as there were only 25 borrowers"
   ]
  },
  {
   "cell_type": "code",
   "execution_count": 23,
   "metadata": {},
   "outputs": [],
   "source": [
    "# removes scientific notation from describe\n",
    "\n",
    "pd.set_option('display.float_format', lambda x: '%.2f' % x)\n"
   ]
  },
  {
   "cell_type": "code",
   "execution_count": 24,
   "metadata": {},
   "outputs": [
    {
     "data": {
      "text/plain": [
       "count      2174.00\n",
       "mean     206527.30\n",
       "std      294610.58\n",
       "min           0.00\n",
       "25%       22735.75\n",
       "50%      109369.00\n",
       "75%      252876.25\n",
       "max     2851153.00\n",
       "Name: amount, dtype: float64"
      ]
     },
     "execution_count": 24,
     "metadata": {},
     "output_type": "execute_result"
    }
   ],
   "source": [
    "# reviewing age group data\n",
    "\n",
    "age20to29_dflt['amount'].describe()\n"
   ]
  },
  {
   "cell_type": "code",
   "execution_count": 25,
   "metadata": {
    "scrolled": true
   },
   "outputs": [
    {
     "data": {
      "text/plain": [
       "count      2255.00\n",
       "mean     265933.01\n",
       "std      393299.29\n",
       "min           0.00\n",
       "25%        3227.50\n",
       "50%      112277.00\n",
       "75%      352919.50\n",
       "max     2691482.00\n",
       "Name: amount, dtype: float64"
      ]
     },
     "execution_count": 25,
     "metadata": {},
     "output_type": "execute_result"
    }
   ],
   "source": [
    "age30to39_dflt['amount'].describe()\n"
   ]
  },
  {
   "cell_type": "code",
   "execution_count": 26,
   "metadata": {
    "scrolled": true
   },
   "outputs": [
    {
     "data": {
      "text/plain": [
       "count      1433.00\n",
       "mean     258758.21\n",
       "std      411940.59\n",
       "min           0.00\n",
       "25%        4933.00\n",
       "50%      104343.00\n",
       "75%      296489.00\n",
       "max     2995825.00\n",
       "Name: amount, dtype: float64"
      ]
     },
     "execution_count": 26,
     "metadata": {},
     "output_type": "execute_result"
    }
   ],
   "source": [
    "age40to49_dflt['amount'].describe()\n"
   ]
  },
  {
   "cell_type": "code",
   "execution_count": 27,
   "metadata": {
    "scrolled": true
   },
   "outputs": [
    {
     "data": {
      "text/plain": [
       "count       553.00\n",
       "mean     240840.42\n",
       "std      405352.49\n",
       "min           0.00\n",
       "25%        4760.00\n",
       "50%      105467.00\n",
       "75%      280055.00\n",
       "max     3017490.00\n",
       "Name: amount, dtype: float64"
      ]
     },
     "execution_count": 27,
     "metadata": {},
     "output_type": "execute_result"
    }
   ],
   "source": [
    "age50to59_dflt['amount'].describe()\n"
   ]
  },
  {
   "cell_type": "code",
   "execution_count": 28,
   "metadata": {
    "scrolled": true
   },
   "outputs": [
    {
     "data": {
      "text/plain": [
       "count        88.00\n",
       "mean     241871.68\n",
       "std      415951.91\n",
       "min           0.00\n",
       "25%           0.00\n",
       "50%       29161.00\n",
       "75%      287221.75\n",
       "max     2114664.00\n",
       "Name: amount, dtype: float64"
      ]
     },
     "execution_count": 28,
     "metadata": {},
     "output_type": "execute_result"
    }
   ],
   "source": [
    "age60to69_dflt['amount'].describe()\n"
   ]
  },
  {
   "cell_type": "code",
   "execution_count": 29,
   "metadata": {},
   "outputs": [
    {
     "data": {
      "text/plain": [
       "count        7.00\n",
       "mean    208920.29\n",
       "std     320999.07\n",
       "min          0.00\n",
       "25%          0.00\n",
       "50%          0.00\n",
       "75%     306714.50\n",
       "max     849013.00\n",
       "Name: amount, dtype: float64"
      ]
     },
     "execution_count": 29,
     "metadata": {},
     "output_type": "execute_result"
    }
   ],
   "source": [
    "age70to79_dflt['amount'].describe()"
   ]
  },
  {
   "cell_type": "code",
   "execution_count": 30,
   "metadata": {},
   "outputs": [
    {
     "name": "stderr",
     "output_type": "stream",
     "text": [
      "/var/folders/qy/wdwpghvx2sz1ycr4909krdy40000gn/T/ipykernel_5595/3977249906.py:6: SettingWithCopyWarning: \n",
      "A value is trying to be set on a copy of a slice from a DataFrame\n",
      "\n",
      "See the caveats in the documentation: https://pandas.pydata.org/pandas-docs/stable/user_guide/indexing.html#returning-a-view-versus-a-copy\n",
      "  data['education'].replace(\"univeristy\", \"university\", inplace=True)\n",
      "/var/folders/qy/wdwpghvx2sz1ycr4909krdy40000gn/T/ipykernel_5595/3977249906.py:7: SettingWithCopyWarning: \n",
      "A value is trying to be set on a copy of a slice from a DataFrame\n",
      "\n",
      "See the caveats in the documentation: https://pandas.pydata.org/pandas-docs/stable/user_guide/indexing.html#returning-a-view-versus-a-copy\n",
      "  data['education'].replace(\"highschool\", \"high school\", inplace=True)\n"
     ]
    }
   ],
   "source": [
    "# sorting data by education\n",
    "data = clean_data(data)\n",
    "gs = data[(data['graduate school'] == 1)]\n",
    "hs = data[(data['high school'] == 1)]\n",
    "uni = data[(data['university'] == 1)]\n"
   ]
  },
  {
   "cell_type": "code",
   "execution_count": 31,
   "metadata": {},
   "outputs": [],
   "source": [
    "gs_dflt = data[(data['graduate school'] == 1) & (data['default'] == 1)]\n",
    "hs_dflt = data[(data['high school'] == 1) & (data['default'] == 1)]\n",
    "uni_dflt = data[(data['university'] == 1) & (data['default'] == 1)]\n"
   ]
  },
  {
   "cell_type": "code",
   "execution_count": 32,
   "metadata": {},
   "outputs": [
    {
     "data": {
      "image/png": "[encoded data removed]",
      "text/plain": [
       "<Figure size 864x288 with 2 Axes>"
      ]
     },
     "metadata": {
      "needs_background": "light"
     },
     "output_type": "display_data"
    }
   ],
   "source": [
    "# plotting box plots for education and default\n",
    "\n",
    "plt.figure(figsize=(12, 4))\n",
    "plt.subplot(1, 2, 1)\n",
    "plt.boxplot([gs['amount']/100000, uni['amount']/100000, hs['amount']/100000],\n",
    "            labels=['Graduate School', 'University', 'High School'])\n",
    "plt.ylim(-2, 10)\n",
    "plt.ylabel('Dollars (100K)')\n",
    "plt.title('Amount Owing for all Borrowers')\n",
    "plt.subplot(1, 2, 2)\n",
    "plt.boxplot([gs_dflt['amount']/100000, uni_dflt['amount']/100000, hs_dflt['amount']/100000],\n",
    "            labels=['Graduate School', 'University', 'High School'])\n",
    "plt.ylim(-2, 10)\n",
    "plt.ylabel('Dollars (100K)')\n",
    "plt.tight_layout(pad=2)\n",
    "plt.title('Amount Owing for all Defaulted Borrowers')\n",
    "plt.show()\n"
   ]
  },
  {
   "cell_type": "markdown",
   "metadata": {},
   "source": [
    "Box plots show slight variation in the debt for the borrowers with university having the highest avg debt for all borrowers and defaults"
   ]
  },
  {
   "cell_type": "code",
   "execution_count": 33,
   "metadata": {},
   "outputs": [
    {
     "data": {
      "text/plain": [
       "count      2018.00\n",
       "mean     238347.08\n",
       "std      406896.91\n",
       "min           0.00\n",
       "25%         390.00\n",
       "50%       47094.50\n",
       "75%      282848.00\n",
       "max     3017490.00\n",
       "Name: amount, dtype: float64"
      ]
     },
     "execution_count": 33,
     "metadata": {},
     "output_type": "execute_result"
    }
   ],
   "source": [
    "# reviewing education level data\n",
    "\n",
    "gs_dflt['amount'].describe()\n"
   ]
  },
  {
   "cell_type": "code",
   "execution_count": 34,
   "metadata": {},
   "outputs": [
    {
     "data": {
      "text/plain": [
       "count      3281.00\n",
       "mean     257100.00\n",
       "std      368985.05\n",
       "min           0.00\n",
       "25%       29516.00\n",
       "50%      127597.00\n",
       "75%      314834.00\n",
       "max     2995825.00\n",
       "Name: amount, dtype: float64"
      ]
     },
     "execution_count": 34,
     "metadata": {},
     "output_type": "execute_result"
    }
   ],
   "source": [
    "uni_dflt['amount'].describe()\n"
   ]
  },
  {
   "cell_type": "code",
   "execution_count": 35,
   "metadata": {},
   "outputs": [
    {
     "data": {
      "text/plain": [
       "count      1204.00\n",
       "mean     207474.17\n",
       "std      299735.89\n",
       "min           0.00\n",
       "25%       24386.00\n",
       "50%      113946.00\n",
       "75%      257563.25\n",
       "max     2849365.00\n",
       "Name: amount, dtype: float64"
      ]
     },
     "execution_count": 35,
     "metadata": {},
     "output_type": "execute_result"
    }
   ],
   "source": [
    "hs_dflt['amount'].describe()\n"
   ]
  },
  {
   "cell_type": "code",
   "execution_count": 36,
   "metadata": {},
   "outputs": [],
   "source": [
    "# Parsing out gender, marital status data\n",
    "\n",
    "male = data[data['Male'] == 1]\n",
    "female = data[data['Female'] == 1]\n",
    "married = data[data['married'] == 1]\n",
    "single = data[data['single'] == 1]\n"
   ]
  },
  {
   "cell_type": "code",
   "execution_count": 37,
   "metadata": {},
   "outputs": [],
   "source": [
    "male_dflt = male[male['default'] == 1]\n",
    "female_dflt = female[female['default'] == 1]\n",
    "married_dflt = married[married['default'] == 1]\n",
    "single_dflt = single[single['default'] == 1]\n"
   ]
  },
  {
   "cell_type": "code",
   "execution_count": 38,
   "metadata": {},
   "outputs": [
    {
     "data": {
      "text/plain": [
       "count     11561.00\n",
       "mean     251449.34\n",
       "std      377296.97\n",
       "min           0.00\n",
       "25%        8498.00\n",
       "50%      107792.00\n",
       "75%      309662.00\n",
       "max     3454059.00\n",
       "Name: amount, dtype: float64"
      ]
     },
     "execution_count": 38,
     "metadata": {},
     "output_type": "execute_result"
    }
   ],
   "source": [
    "# Reviewing gender, marital data and age data\n",
    "male['amount'].describe()\n"
   ]
  },
  {
   "cell_type": "code",
   "execution_count": 39,
   "metadata": {},
   "outputs": [
    {
     "data": {
      "text/plain": [
       "count     17561.00\n",
       "mean     231598.85\n",
       "std      350921.46\n",
       "min           0.00\n",
       "25%        2971.00\n",
       "50%       96066.00\n",
       "75%      302115.00\n",
       "max     4116080.00\n",
       "Name: amount, dtype: float64"
      ]
     },
     "execution_count": 39,
     "metadata": {},
     "output_type": "execute_result"
    }
   ],
   "source": [
    "female['amount'].describe()\n"
   ]
  },
  {
   "cell_type": "code",
   "execution_count": 40,
   "metadata": {},
   "outputs": [
    {
     "data": {
      "text/plain": [
       "count     13406.00\n",
       "mean     247582.02\n",
       "std      379478.98\n",
       "min           0.00\n",
       "25%        2501.25\n",
       "50%       98664.50\n",
       "75%      321176.00\n",
       "max     4116080.00\n",
       "Name: amount, dtype: float64"
      ]
     },
     "execution_count": 40,
     "metadata": {},
     "output_type": "execute_result"
    }
   ],
   "source": [
    "married['amount'].describe()\n"
   ]
  },
  {
   "cell_type": "code",
   "execution_count": 41,
   "metadata": {},
   "outputs": [
    {
     "data": {
      "text/plain": [
       "count     15716.00\n",
       "mean     232567.36\n",
       "std      345764.85\n",
       "min           0.00\n",
       "25%        7164.75\n",
       "50%      104033.00\n",
       "75%      292306.50\n",
       "max     3454059.00\n",
       "Name: amount, dtype: float64"
      ]
     },
     "execution_count": 41,
     "metadata": {},
     "output_type": "execute_result"
    }
   ],
   "source": [
    "single['amount'].describe()\n"
   ]
  },
  {
   "cell_type": "code",
   "execution_count": 42,
   "metadata": {},
   "outputs": [
    {
     "data": {
      "text/plain": [
       "count      2812.00\n",
       "mean     250805.87\n",
       "std      375753.29\n",
       "min           0.00\n",
       "25%       14400.00\n",
       "50%      107912.00\n",
       "75%      305671.25\n",
       "max     3017490.00\n",
       "Name: amount, dtype: float64"
      ]
     },
     "execution_count": 42,
     "metadata": {},
     "output_type": "execute_result"
    }
   ],
   "source": [
    "male_dflt['amount'].describe()\n"
   ]
  },
  {
   "cell_type": "code",
   "execution_count": 43,
   "metadata": {},
   "outputs": [
    {
     "data": {
      "text/plain": [
       "count      3691.00\n",
       "mean     235454.43\n",
       "std      365720.73\n",
       "min           0.00\n",
       "25%        4138.50\n",
       "50%      107807.00\n",
       "75%      279022.00\n",
       "max     2995825.00\n",
       "Name: amount, dtype: float64"
      ]
     },
     "execution_count": 43,
     "metadata": {},
     "output_type": "execute_result"
    }
   ],
   "source": [
    "female_dflt['amount'].describe()\n"
   ]
  },
  {
   "cell_type": "code",
   "execution_count": 44,
   "metadata": {},
   "outputs": [
    {
     "data": {
      "text/plain": [
       "count      3185.00\n",
       "mean     253444.33\n",
       "std      385452.70\n",
       "min           0.00\n",
       "25%        5583.00\n",
       "50%      110575.00\n",
       "75%      322479.00\n",
       "max     3017490.00\n",
       "Name: amount, dtype: float64"
      ]
     },
     "execution_count": 44,
     "metadata": {},
     "output_type": "execute_result"
    }
   ],
   "source": [
    "married_dflt['amount'].describe()\n"
   ]
  },
  {
   "cell_type": "code",
   "execution_count": 45,
   "metadata": {},
   "outputs": [
    {
     "data": {
      "text/plain": [
       "count      3318.00\n",
       "mean     231195.97\n",
       "std      354540.30\n",
       "min           0.00\n",
       "25%       10311.75\n",
       "50%      106115.00\n",
       "75%      271625.00\n",
       "max     2851153.00\n",
       "Name: amount, dtype: float64"
      ]
     },
     "execution_count": 45,
     "metadata": {},
     "output_type": "execute_result"
    }
   ],
   "source": [
    "single_dflt['amount'].describe()\n"
   ]
  },
  {
   "cell_type": "code",
   "execution_count": 46,
   "metadata": {},
   "outputs": [
    {
     "data": {
      "text/plain": [
       "count      9435.00\n",
       "mean     208106.08\n",
       "std      287772.53\n",
       "min           0.00\n",
       "25%       16309.50\n",
       "50%      108062.00\n",
       "75%      269424.50\n",
       "max     2851153.00\n",
       "Name: amount, dtype: float64"
      ]
     },
     "execution_count": 46,
     "metadata": {},
     "output_type": "execute_result"
    }
   ],
   "source": [
    "age20to29['amount'].describe()\n"
   ]
  },
  {
   "cell_type": "code",
   "execution_count": 47,
   "metadata": {},
   "outputs": [
    {
     "data": {
      "text/plain": [
       "count     10980.00\n",
       "mean     258009.66\n",
       "std      388373.35\n",
       "min           0.00\n",
       "25%        2362.00\n",
       "50%       96860.00\n",
       "75%      351702.00\n",
       "max     3454059.00\n",
       "Name: amount, dtype: float64"
      ]
     },
     "execution_count": 47,
     "metadata": {},
     "output_type": "execute_result"
    }
   ],
   "source": [
    "age30to39['amount'].describe()\n"
   ]
  },
  {
   "cell_type": "code",
   "execution_count": 48,
   "metadata": {},
   "outputs": [
    {
     "data": {
      "text/plain": [
       "count      6197.00\n",
       "mean     246241.55\n",
       "std      384710.69\n",
       "min           0.00\n",
       "25%        2335.00\n",
       "50%       94825.00\n",
       "75%      306298.00\n",
       "max     4116080.00\n",
       "Name: amount, dtype: float64"
      ]
     },
     "execution_count": 48,
     "metadata": {},
     "output_type": "execute_result"
    }
   ],
   "source": [
    "age40to49['amount'].describe()\n"
   ]
  },
  {
   "cell_type": "code",
   "execution_count": 49,
   "metadata": {},
   "outputs": [
    {
     "data": {
      "text/plain": [
       "count      2222.00\n",
       "mean     250727.90\n",
       "std      400202.43\n",
       "min           0.00\n",
       "25%        3173.75\n",
       "50%      103352.50\n",
       "75%      297949.25\n",
       "max     3279917.00\n",
       "Name: amount, dtype: float64"
      ]
     },
     "execution_count": 49,
     "metadata": {},
     "output_type": "execute_result"
    }
   ],
   "source": [
    "age50to59['amount'].describe()\n"
   ]
  },
  {
   "cell_type": "code",
   "execution_count": 50,
   "metadata": {},
   "outputs": [
    {
     "data": {
      "text/plain": [
       "count       303.00\n",
       "mean     320702.51\n",
       "std      533542.36\n",
       "min           0.00\n",
       "25%         422.00\n",
       "50%      108026.00\n",
       "75%      372815.00\n",
       "max     3169258.00\n",
       "Name: amount, dtype: float64"
      ]
     },
     "execution_count": 50,
     "metadata": {},
     "output_type": "execute_result"
    }
   ],
   "source": [
    "age60to69['amount'].describe()\n"
   ]
  },
  {
   "cell_type": "code",
   "execution_count": 51,
   "metadata": {},
   "outputs": [
    {
     "data": {
      "text/html": [
       "<div>\n",
       "<style scoped>\n",
       "    .dataframe tbody tr th:only-of-type {\n",
       "        vertical-align: middle;\n",
       "    }\n",
       "\n",
       "    .dataframe tbody tr th {\n",
       "        vertical-align: top;\n",
       "    }\n",
       "\n",
       "    .dataframe thead th {\n",
       "        text-align: right;\n",
       "    }\n",
       "</style>\n",
       "<table border=\"1\" class=\"dataframe\">\n",
       "  <thead>\n",
       "    <tr style=\"text-align: right;\">\n",
       "      <th></th>\n",
       "      <th>credit</th>\n",
       "      <th>delayed</th>\n",
       "      <th>amount</th>\n",
       "      <th>age</th>\n",
       "      <th>default</th>\n",
       "    </tr>\n",
       "  </thead>\n",
       "  <tbody>\n",
       "    <tr>\n",
       "      <th>count</th>\n",
       "      <td>25.00</td>\n",
       "      <td>25.00</td>\n",
       "      <td>25.00</td>\n",
       "      <td>25.00</td>\n",
       "      <td>25.00</td>\n",
       "    </tr>\n",
       "    <tr>\n",
       "      <th>mean</th>\n",
       "      <td>218800.00</td>\n",
       "      <td>1.20</td>\n",
       "      <td>422511.44</td>\n",
       "      <td>71.96</td>\n",
       "      <td>0.28</td>\n",
       "    </tr>\n",
       "    <tr>\n",
       "      <th>std</th>\n",
       "      <td>123501.69</td>\n",
       "      <td>1.98</td>\n",
       "      <td>575416.47</td>\n",
       "      <td>2.30</td>\n",
       "      <td>0.46</td>\n",
       "    </tr>\n",
       "    <tr>\n",
       "      <th>min</th>\n",
       "      <td>50000.00</td>\n",
       "      <td>0.00</td>\n",
       "      <td>0.00</td>\n",
       "      <td>70.00</td>\n",
       "      <td>0.00</td>\n",
       "    </tr>\n",
       "    <tr>\n",
       "      <th>25%</th>\n",
       "      <td>140000.00</td>\n",
       "      <td>0.00</td>\n",
       "      <td>2594.00</td>\n",
       "      <td>70.00</td>\n",
       "      <td>0.00</td>\n",
       "    </tr>\n",
       "    <tr>\n",
       "      <th>50%</th>\n",
       "      <td>200000.00</td>\n",
       "      <td>0.00</td>\n",
       "      <td>220675.00</td>\n",
       "      <td>71.00</td>\n",
       "      <td>0.00</td>\n",
       "    </tr>\n",
       "    <tr>\n",
       "      <th>75%</th>\n",
       "      <td>300000.00</td>\n",
       "      <td>2.00</td>\n",
       "      <td>785721.00</td>\n",
       "      <td>73.00</td>\n",
       "      <td>1.00</td>\n",
       "    </tr>\n",
       "    <tr>\n",
       "      <th>max</th>\n",
       "      <td>500000.00</td>\n",
       "      <td>6.00</td>\n",
       "      <td>2550628.00</td>\n",
       "      <td>79.00</td>\n",
       "      <td>1.00</td>\n",
       "    </tr>\n",
       "  </tbody>\n",
       "</table>\n",
       "</div>"
      ],
      "text/plain": [
       "         credit  delayed     amount   age  default\n",
       "count     25.00    25.00      25.00 25.00    25.00\n",
       "mean  218800.00     1.20  422511.44 71.96     0.28\n",
       "std   123501.69     1.98  575416.47  2.30     0.46\n",
       "min    50000.00     0.00       0.00 70.00     0.00\n",
       "25%   140000.00     0.00    2594.00 70.00     0.00\n",
       "50%   200000.00     0.00  220675.00 71.00     0.00\n",
       "75%   300000.00     2.00  785721.00 73.00     1.00\n",
       "max   500000.00     6.00 2550628.00 79.00     1.00"
      ]
     },
     "execution_count": 51,
     "metadata": {},
     "output_type": "execute_result"
    }
   ],
   "source": [
    "age70to79.describe()"
   ]
  },
  {
   "cell_type": "code",
   "execution_count": 52,
   "metadata": {},
   "outputs": [],
   "source": [
    "# Creating a Default Visualization for all groups\n",
    "# Creating dictionary of parsed default data\n",
    "\n",
    "Default = {'Borrowers': ['Grad School', 'University', 'High School', 'Male', 'Female', 'Married', 'Single', '20 to 29',\n",
    "                         '30 to 39', '40 to 49', '50 to 59', '60 to 69','70 to 79'],\n",
    "           'Total Defaults': [2018, 3281, 1204, 2812, 3691, 3185, 3318, 2173, 2252, 1432, 551, 88,7]}\n"
   ]
  },
  {
   "cell_type": "code",
   "execution_count": 53,
   "metadata": {},
   "outputs": [
    {
     "data": {
      "text/plain": [
       "{'Borrowers': ['Grad School',\n",
       "  'University',\n",
       "  'High School',\n",
       "  'Male',\n",
       "  'Female',\n",
       "  'Married',\n",
       "  'Single',\n",
       "  '20 to 29',\n",
       "  '30 to 39',\n",
       "  '40 to 49',\n",
       "  '50 to 59',\n",
       "  '60 to 69',\n",
       "  '70 to 79'],\n",
       " 'Total Defaults': [2018,\n",
       "  3281,\n",
       "  1204,\n",
       "  2812,\n",
       "  3691,\n",
       "  3185,\n",
       "  3318,\n",
       "  2173,\n",
       "  2252,\n",
       "  1432,\n",
       "  551,\n",
       "  88,\n",
       "  7]}"
      ]
     },
     "execution_count": 53,
     "metadata": {},
     "output_type": "execute_result"
    }
   ],
   "source": [
    "Default\n"
   ]
  },
  {
   "cell_type": "code",
   "execution_count": 54,
   "metadata": {},
   "outputs": [],
   "source": [
    "# Creating data frame from dictionary\n",
    "Default_DF = pd.DataFrame.from_dict(Default)\n"
   ]
  },
  {
   "cell_type": "code",
   "execution_count": 55,
   "metadata": {},
   "outputs": [
    {
     "data": {
      "text/html": [
       "<div>\n",
       "<style scoped>\n",
       "    .dataframe tbody tr th:only-of-type {\n",
       "        vertical-align: middle;\n",
       "    }\n",
       "\n",
       "    .dataframe tbody tr th {\n",
       "        vertical-align: top;\n",
       "    }\n",
       "\n",
       "    .dataframe thead th {\n",
       "        text-align: right;\n",
       "    }\n",
       "</style>\n",
       "<table border=\"1\" class=\"dataframe\">\n",
       "  <thead>\n",
       "    <tr style=\"text-align: right;\">\n",
       "      <th></th>\n",
       "      <th>Borrowers</th>\n",
       "      <th>Total Defaults</th>\n",
       "    </tr>\n",
       "  </thead>\n",
       "  <tbody>\n",
       "    <tr>\n",
       "      <th>0</th>\n",
       "      <td>Grad School</td>\n",
       "      <td>2018</td>\n",
       "    </tr>\n",
       "    <tr>\n",
       "      <th>1</th>\n",
       "      <td>University</td>\n",
       "      <td>3281</td>\n",
       "    </tr>\n",
       "    <tr>\n",
       "      <th>2</th>\n",
       "      <td>High School</td>\n",
       "      <td>1204</td>\n",
       "    </tr>\n",
       "    <tr>\n",
       "      <th>3</th>\n",
       "      <td>Male</td>\n",
       "      <td>2812</td>\n",
       "    </tr>\n",
       "    <tr>\n",
       "      <th>4</th>\n",
       "      <td>Female</td>\n",
       "      <td>3691</td>\n",
       "    </tr>\n",
       "    <tr>\n",
       "      <th>5</th>\n",
       "      <td>Married</td>\n",
       "      <td>3185</td>\n",
       "    </tr>\n",
       "    <tr>\n",
       "      <th>6</th>\n",
       "      <td>Single</td>\n",
       "      <td>3318</td>\n",
       "    </tr>\n",
       "    <tr>\n",
       "      <th>7</th>\n",
       "      <td>20 to 29</td>\n",
       "      <td>2173</td>\n",
       "    </tr>\n",
       "    <tr>\n",
       "      <th>8</th>\n",
       "      <td>30 to 39</td>\n",
       "      <td>2252</td>\n",
       "    </tr>\n",
       "    <tr>\n",
       "      <th>9</th>\n",
       "      <td>40 to 49</td>\n",
       "      <td>1432</td>\n",
       "    </tr>\n",
       "    <tr>\n",
       "      <th>10</th>\n",
       "      <td>50 to 59</td>\n",
       "      <td>551</td>\n",
       "    </tr>\n",
       "    <tr>\n",
       "      <th>11</th>\n",
       "      <td>60 to 69</td>\n",
       "      <td>88</td>\n",
       "    </tr>\n",
       "    <tr>\n",
       "      <th>12</th>\n",
       "      <td>70 to 79</td>\n",
       "      <td>7</td>\n",
       "    </tr>\n",
       "  </tbody>\n",
       "</table>\n",
       "</div>"
      ],
      "text/plain": [
       "      Borrowers  Total Defaults\n",
       "0   Grad School            2018\n",
       "1    University            3281\n",
       "2   High School            1204\n",
       "3          Male            2812\n",
       "4        Female            3691\n",
       "5       Married            3185\n",
       "6        Single            3318\n",
       "7      20 to 29            2173\n",
       "8      30 to 39            2252\n",
       "9      40 to 49            1432\n",
       "10     50 to 59             551\n",
       "11     60 to 69              88\n",
       "12     70 to 79               7"
      ]
     },
     "execution_count": 55,
     "metadata": {},
     "output_type": "execute_result"
    }
   ],
   "source": [
    "Default_DF\n"
   ]
  },
  {
   "cell_type": "code",
   "execution_count": 56,
   "metadata": {},
   "outputs": [
    {
     "data": {
      "image/png": "[encoded data removed]",
      "text/plain": [
       "<Figure size 1296x576 with 1 Axes>"
      ]
     },
     "metadata": {
      "needs_background": "light"
     },
     "output_type": "display_data"
    }
   ],
   "source": [
    "# Creating Bar Graph of total defaults per group\n",
    "\n",
    "plt.figure(figsize=(18, 8))\n",
    "plt.bar(Default_DF['Borrowers'], Default_DF['Total Defaults'])\n",
    "plt.xlabel('Borrowers')\n",
    "plt.ylabel('Number of Defaults')\n",
    "plt.title('Number of Defaults per Borrower Group')\n",
    "plt.show()\n"
   ]
  },
  {
   "cell_type": "markdown",
   "metadata": {},
   "source": [
    "The female demographic had the most defaults out of all the different demographics"
   ]
  },
  {
   "cell_type": "code",
   "execution_count": 57,
   "metadata": {},
   "outputs": [
    {
     "data": {
      "text/plain": [
       "count     10512.00\n",
       "mean     227433.76\n",
       "std      392665.08\n",
       "min           0.00\n",
       "25%         530.25\n",
       "50%       42595.00\n",
       "75%      280316.25\n",
       "max     4116080.00\n",
       "Name: amount, dtype: float64"
      ]
     },
     "execution_count": 57,
     "metadata": {},
     "output_type": "execute_result"
    }
   ],
   "source": [
    "# Reviewing group data\n",
    "\n",
    "gs['amount'].describe()\n"
   ]
  },
  {
   "cell_type": "code",
   "execution_count": 58,
   "metadata": {},
   "outputs": [
    {
     "data": {
      "text/plain": [
       "count      4766.00\n",
       "mean     224047.02\n",
       "std      314680.50\n",
       "min           0.00\n",
       "25%       14060.75\n",
       "50%      115667.50\n",
       "75%      281297.25\n",
       "max     3279917.00\n",
       "Name: amount, dtype: float64"
      ]
     },
     "execution_count": 58,
     "metadata": {},
     "output_type": "execute_result"
    }
   ],
   "source": [
    "hs['amount'].describe()\n"
   ]
  },
  {
   "cell_type": "code",
   "execution_count": 59,
   "metadata": {},
   "outputs": [
    {
     "data": {
      "text/plain": [
       "count     13844.00\n",
       "mean     253938.28\n",
       "std      351747.02\n",
       "min           0.00\n",
       "25%       16909.75\n",
       "50%      126170.00\n",
       "75%      330269.25\n",
       "max     3169258.00\n",
       "Name: amount, dtype: float64"
      ]
     },
     "execution_count": 59,
     "metadata": {},
     "output_type": "execute_result"
    }
   ],
   "source": [
    "uni['amount'].describe()\n"
   ]
  },
  {
   "cell_type": "code",
   "execution_count": 60,
   "metadata": {},
   "outputs": [],
   "source": [
    "# Adding Total Borrowers to Default_DF data frame\n",
    "\n",
    "Default_DF['Total Borrowers'] = [10512, 13844, 4766, 11561,\n",
    "                                 17561, 13406, 15716, 9419, 10967, 6191, 2217, 303,25]\n"
   ]
  },
  {
   "cell_type": "code",
   "execution_count": 61,
   "metadata": {},
   "outputs": [
    {
     "data": {
      "text/html": [
       "<div>\n",
       "<style scoped>\n",
       "    .dataframe tbody tr th:only-of-type {\n",
       "        vertical-align: middle;\n",
       "    }\n",
       "\n",
       "    .dataframe tbody tr th {\n",
       "        vertical-align: top;\n",
       "    }\n",
       "\n",
       "    .dataframe thead th {\n",
       "        text-align: right;\n",
       "    }\n",
       "</style>\n",
       "<table border=\"1\" class=\"dataframe\">\n",
       "  <thead>\n",
       "    <tr style=\"text-align: right;\">\n",
       "      <th></th>\n",
       "      <th>Borrowers</th>\n",
       "      <th>Total Defaults</th>\n",
       "      <th>Total Borrowers</th>\n",
       "    </tr>\n",
       "  </thead>\n",
       "  <tbody>\n",
       "    <tr>\n",
       "      <th>0</th>\n",
       "      <td>Grad School</td>\n",
       "      <td>2018</td>\n",
       "      <td>10512</td>\n",
       "    </tr>\n",
       "    <tr>\n",
       "      <th>1</th>\n",
       "      <td>University</td>\n",
       "      <td>3281</td>\n",
       "      <td>13844</td>\n",
       "    </tr>\n",
       "    <tr>\n",
       "      <th>2</th>\n",
       "      <td>High School</td>\n",
       "      <td>1204</td>\n",
       "      <td>4766</td>\n",
       "    </tr>\n",
       "    <tr>\n",
       "      <th>3</th>\n",
       "      <td>Male</td>\n",
       "      <td>2812</td>\n",
       "      <td>11561</td>\n",
       "    </tr>\n",
       "    <tr>\n",
       "      <th>4</th>\n",
       "      <td>Female</td>\n",
       "      <td>3691</td>\n",
       "      <td>17561</td>\n",
       "    </tr>\n",
       "    <tr>\n",
       "      <th>5</th>\n",
       "      <td>Married</td>\n",
       "      <td>3185</td>\n",
       "      <td>13406</td>\n",
       "    </tr>\n",
       "    <tr>\n",
       "      <th>6</th>\n",
       "      <td>Single</td>\n",
       "      <td>3318</td>\n",
       "      <td>15716</td>\n",
       "    </tr>\n",
       "    <tr>\n",
       "      <th>7</th>\n",
       "      <td>20 to 29</td>\n",
       "      <td>2173</td>\n",
       "      <td>9419</td>\n",
       "    </tr>\n",
       "    <tr>\n",
       "      <th>8</th>\n",
       "      <td>30 to 39</td>\n",
       "      <td>2252</td>\n",
       "      <td>10967</td>\n",
       "    </tr>\n",
       "    <tr>\n",
       "      <th>9</th>\n",
       "      <td>40 to 49</td>\n",
       "      <td>1432</td>\n",
       "      <td>6191</td>\n",
       "    </tr>\n",
       "    <tr>\n",
       "      <th>10</th>\n",
       "      <td>50 to 59</td>\n",
       "      <td>551</td>\n",
       "      <td>2217</td>\n",
       "    </tr>\n",
       "    <tr>\n",
       "      <th>11</th>\n",
       "      <td>60 to 69</td>\n",
       "      <td>88</td>\n",
       "      <td>303</td>\n",
       "    </tr>\n",
       "    <tr>\n",
       "      <th>12</th>\n",
       "      <td>70 to 79</td>\n",
       "      <td>7</td>\n",
       "      <td>25</td>\n",
       "    </tr>\n",
       "  </tbody>\n",
       "</table>\n",
       "</div>"
      ],
      "text/plain": [
       "      Borrowers  Total Defaults  Total Borrowers\n",
       "0   Grad School            2018            10512\n",
       "1    University            3281            13844\n",
       "2   High School            1204             4766\n",
       "3          Male            2812            11561\n",
       "4        Female            3691            17561\n",
       "5       Married            3185            13406\n",
       "6        Single            3318            15716\n",
       "7      20 to 29            2173             9419\n",
       "8      30 to 39            2252            10967\n",
       "9      40 to 49            1432             6191\n",
       "10     50 to 59             551             2217\n",
       "11     60 to 69              88              303\n",
       "12     70 to 79               7               25"
      ]
     },
     "execution_count": 61,
     "metadata": {},
     "output_type": "execute_result"
    }
   ],
   "source": [
    "Default_DF\n"
   ]
  },
  {
   "cell_type": "code",
   "execution_count": 62,
   "metadata": {},
   "outputs": [],
   "source": [
    "# Creating rate of default column\n",
    "\n",
    "Default_DF['Rate of Default'] = (\n",
    "    (Default_DF['Total Defaults']/Default_DF['Total Borrowers'])*100)\n"
   ]
  },
  {
   "cell_type": "code",
   "execution_count": 63,
   "metadata": {},
   "outputs": [
    {
     "data": {
      "text/html": [
       "<div>\n",
       "<style scoped>\n",
       "    .dataframe tbody tr th:only-of-type {\n",
       "        vertical-align: middle;\n",
       "    }\n",
       "\n",
       "    .dataframe tbody tr th {\n",
       "        vertical-align: top;\n",
       "    }\n",
       "\n",
       "    .dataframe thead th {\n",
       "        text-align: right;\n",
       "    }\n",
       "</style>\n",
       "<table border=\"1\" class=\"dataframe\">\n",
       "  <thead>\n",
       "    <tr style=\"text-align: right;\">\n",
       "      <th></th>\n",
       "      <th>Borrowers</th>\n",
       "      <th>Total Defaults</th>\n",
       "      <th>Total Borrowers</th>\n",
       "      <th>Rate of Default</th>\n",
       "    </tr>\n",
       "  </thead>\n",
       "  <tbody>\n",
       "    <tr>\n",
       "      <th>0</th>\n",
       "      <td>Grad School</td>\n",
       "      <td>2018</td>\n",
       "      <td>10512</td>\n",
       "      <td>19.20</td>\n",
       "    </tr>\n",
       "    <tr>\n",
       "      <th>1</th>\n",
       "      <td>University</td>\n",
       "      <td>3281</td>\n",
       "      <td>13844</td>\n",
       "      <td>23.70</td>\n",
       "    </tr>\n",
       "    <tr>\n",
       "      <th>2</th>\n",
       "      <td>High School</td>\n",
       "      <td>1204</td>\n",
       "      <td>4766</td>\n",
       "      <td>25.26</td>\n",
       "    </tr>\n",
       "    <tr>\n",
       "      <th>3</th>\n",
       "      <td>Male</td>\n",
       "      <td>2812</td>\n",
       "      <td>11561</td>\n",
       "      <td>24.32</td>\n",
       "    </tr>\n",
       "    <tr>\n",
       "      <th>4</th>\n",
       "      <td>Female</td>\n",
       "      <td>3691</td>\n",
       "      <td>17561</td>\n",
       "      <td>21.02</td>\n",
       "    </tr>\n",
       "    <tr>\n",
       "      <th>5</th>\n",
       "      <td>Married</td>\n",
       "      <td>3185</td>\n",
       "      <td>13406</td>\n",
       "      <td>23.76</td>\n",
       "    </tr>\n",
       "    <tr>\n",
       "      <th>6</th>\n",
       "      <td>Single</td>\n",
       "      <td>3318</td>\n",
       "      <td>15716</td>\n",
       "      <td>21.11</td>\n",
       "    </tr>\n",
       "    <tr>\n",
       "      <th>7</th>\n",
       "      <td>20 to 29</td>\n",
       "      <td>2173</td>\n",
       "      <td>9419</td>\n",
       "      <td>23.07</td>\n",
       "    </tr>\n",
       "    <tr>\n",
       "      <th>8</th>\n",
       "      <td>30 to 39</td>\n",
       "      <td>2252</td>\n",
       "      <td>10967</td>\n",
       "      <td>20.53</td>\n",
       "    </tr>\n",
       "    <tr>\n",
       "      <th>9</th>\n",
       "      <td>40 to 49</td>\n",
       "      <td>1432</td>\n",
       "      <td>6191</td>\n",
       "      <td>23.13</td>\n",
       "    </tr>\n",
       "    <tr>\n",
       "      <th>10</th>\n",
       "      <td>50 to 59</td>\n",
       "      <td>551</td>\n",
       "      <td>2217</td>\n",
       "      <td>24.85</td>\n",
       "    </tr>\n",
       "    <tr>\n",
       "      <th>11</th>\n",
       "      <td>60 to 69</td>\n",
       "      <td>88</td>\n",
       "      <td>303</td>\n",
       "      <td>29.04</td>\n",
       "    </tr>\n",
       "    <tr>\n",
       "      <th>12</th>\n",
       "      <td>70 to 79</td>\n",
       "      <td>7</td>\n",
       "      <td>25</td>\n",
       "      <td>28.00</td>\n",
       "    </tr>\n",
       "  </tbody>\n",
       "</table>\n",
       "</div>"
      ],
      "text/plain": [
       "      Borrowers  Total Defaults  Total Borrowers  Rate of Default\n",
       "0   Grad School            2018            10512            19.20\n",
       "1    University            3281            13844            23.70\n",
       "2   High School            1204             4766            25.26\n",
       "3          Male            2812            11561            24.32\n",
       "4        Female            3691            17561            21.02\n",
       "5       Married            3185            13406            23.76\n",
       "6        Single            3318            15716            21.11\n",
       "7      20 to 29            2173             9419            23.07\n",
       "8      30 to 39            2252            10967            20.53\n",
       "9      40 to 49            1432             6191            23.13\n",
       "10     50 to 59             551             2217            24.85\n",
       "11     60 to 69              88              303            29.04\n",
       "12     70 to 79               7               25            28.00"
      ]
     },
     "execution_count": 63,
     "metadata": {},
     "output_type": "execute_result"
    }
   ],
   "source": [
    "Default_DF\n"
   ]
  },
  {
   "cell_type": "code",
   "execution_count": 64,
   "metadata": {},
   "outputs": [
    {
     "data": {
      "image/png": "[encoded data removed]",
      "text/plain": [
       "<Figure size 1296x576 with 1 Axes>"
      ]
     },
     "metadata": {
      "needs_background": "light"
     },
     "output_type": "display_data"
    }
   ],
   "source": [
    "# Plotting Rate of Default\n",
    "\n",
    "plt.figure(figsize=(18, 8))\n",
    "plt.bar(Default_DF['Borrowers'], Default_DF['Rate of Default'])\n",
    "plt.xlabel('Borrowers')\n",
    "plt.ylabel('Rate of Defaults')\n",
    "plt.title('Rate of Defaults per Borrower Group')\n",
    "plt.show()\n"
   ]
  },
  {
   "cell_type": "markdown",
   "metadata": {},
   "source": [
    "The default rate is fairly consisten across the different demographics with the exception of the two oldest age brackets. However these were smaller sample sizes."
   ]
  },
  {
   "cell_type": "markdown",
   "metadata": {},
   "source": [
    "# Running the KNN and logistic regression models\n",
    "\n",
    "Since we have powerful computers at our disposal, we pull all the possible combinations of inputs and run the model across each subset of inputs. Furthermore, we use k values of 1, 5, 10, 25, 50 and 100 and see which one performs the best."
   ]
  },
  {
   "cell_type": "code",
   "execution_count": 65,
   "metadata": {},
   "outputs": [
    {
     "name": "stdout",
     "output_type": "stream",
     "text": [
      "Running model for the following parameters:  ['delayed']\n"
     ]
    },
    {
     "data": {
      "image/png": "[encoded data removed]",
      "text/plain": [
       "<Figure size 432x288 with 2 Axes>"
      ]
     },
     "metadata": {
      "needs_background": "light"
     },
     "output_type": "display_data"
    }
   ],
   "source": [
    "# THIS IS THE ACTUAL ALGORITHM, IT USES THE FUNCTIONS DEFINED ABOVE\n",
    "\n",
    "# NOTE TO TA: BECAUSE WE RUN ACROSS ALL COMBINATIONS OF INPUTS/SUBSETS AND USE k=1,5,10,25,50,100\n",
    "# THE MODEL TAKES MORE THAN 1.5 HOURS TO RUN. AS SUCH, WE HAVE COMMENTED OUT THE ACTUAL RUNS AND \n",
    "# SHORT CIRCUITED JUST TO SHOW THE BEST PERFORMING OUTPUT THAT WE MOVE FORWARD WITH. \n",
    "# IF YOU'D LIKE TO RUN THE FULL MODEL FOR 1.5 HOURS, PLEASE REPLACE THE COMMENTED LINES AS INDICATED BELOW\n",
    "\n",
    "input_combinations = get_combinations_for(data.columns)\n",
    "\n",
    "knn_classification_reports = {}\n",
    "logistic_regression_reports = {}\n",
    "\n",
    "# for input_combination in input_combinations:  ######### UNCOMMENT THIS LINE AND COMMENT OUT THE NEXT ONE TO RUN THE FULL MODEL\n",
    "for input_combination in [[\"delayed\"]]:\n",
    "    print(\"Running model for the following parameters: \", input_combination)\n",
    "\n",
    "    # for i in [1, 5, 10, 25, 50, 100]: ######### UNCOMMENT THIS LINE AND COMMENT OUT THE NEXT ONE TO RUN THE FULL MODEL\n",
    "    for i in [25]:\n",
    "        knn_classification_reports[\", \".join(\n",
    "            input_combination) + \"_\" + str(i)] = run_knn_for(data, input_combination, i)\n",
    "\n",
    "    logistic_regression_reports[\", \".join(\n",
    "        input_combination)] = run_logistic_regression_for(data, input_combination)\n",
    "\n",
    "scenario_reports = {\"knn\": knn_classification_reports,\n",
    "                    \"logistic\": logistic_regression_reports}\n"
   ]
  },
  {
   "cell_type": "code",
   "execution_count": 66,
   "metadata": {},
   "outputs": [
    {
     "name": "stdout",
     "output_type": "stream",
     "text": [
      "Number of KNN scenarios:  1\n",
      "Number of logistic regression scenarios:  1\n"
     ]
    },
    {
     "data": {
      "text/plain": [
       "{'knn': {'delayed_25': '              precision    recall  f1-score   support\\n\\n         0.0       0.84      0.93      0.88      4552\\n         1.0       0.58      0.36      0.44      1273\\n\\n    accuracy                           0.80      5825\\n   macro avg       0.71      0.64      0.66      5825\\nweighted avg       0.78      0.80      0.78      5825\\n'},\n",
       " 'logistic': {'delayed': '              precision    recall  f1-score   support\\n\\n         0.0       0.82      0.97      0.89      4552\\n         1.0       0.67      0.23      0.34      1273\\n\\n    accuracy                           0.81      5825\\n   macro avg       0.74      0.60      0.61      5825\\nweighted avg       0.78      0.81      0.77      5825\\n'}}"
      ]
     },
     "execution_count": 66,
     "metadata": {},
     "output_type": "execute_result"
    }
   ],
   "source": [
    "# Let's explore the structure of the Dict that has the results from all of \n",
    "# the scenarios we considered\n",
    "\n",
    "print(\"Number of KNN scenarios: \", len(scenario_reports[\"knn\"]))\n",
    "print(\"Number of logistic regression scenarios: \", len(scenario_reports[\"logistic\"]))\n",
    "\n",
    "knn_reports = scenario_reports[\"knn\"]\n",
    "logistic_reports = scenario_reports[\"logistic\"]\n",
    "\n",
    "scenario_reports\n",
    "\n"
   ]
  },
  {
   "cell_type": "code",
   "execution_count": 67,
   "metadata": {},
   "outputs": [
    {
     "data": {
      "text/plain": [
       "{'delayed_25': '              precision    recall  f1-score   support\\n\\n         0.0       0.84      0.93      0.88      4552\\n         1.0       0.58      0.36      0.44      1273\\n\\n    accuracy                           0.80      5825\\n   macro avg       0.71      0.64      0.66      5825\\nweighted avg       0.78      0.80      0.78      5825\\n'}"
      ]
     },
     "execution_count": 67,
     "metadata": {},
     "output_type": "execute_result"
    }
   ],
   "source": [
    "knn_classification_reports"
   ]
  },
  {
   "cell_type": "code",
   "execution_count": null,
   "metadata": {},
   "outputs": [],
   "source": []
  },
  {
   "cell_type": "markdown",
   "metadata": {},
   "source": [
    "### KNN Summary\n",
    "We note that the best performance for our model uses ONLY delayed as an input parameter, with a k=25, leading to a f1-score of 0.44 for the \"1\" or default case, and an f1-score of 0.88 for the \"0\" or no default case\n",
    "\n",
    "We note that this model has value, but 0.44 is not good enough to make a decision about credit or to be actionable. "
   ]
  },
  {
   "cell_type": "code",
   "execution_count": 68,
   "metadata": {},
   "outputs": [
    {
     "data": {
      "text/plain": [
       "{'delayed': '              precision    recall  f1-score   support\\n\\n         0.0       0.82      0.97      0.89      4552\\n         1.0       0.67      0.23      0.34      1273\\n\\n    accuracy                           0.81      5825\\n   macro avg       0.74      0.60      0.61      5825\\nweighted avg       0.78      0.81      0.77      5825\\n'}"
      ]
     },
     "execution_count": 68,
     "metadata": {},
     "output_type": "execute_result"
    }
   ],
   "source": [
    "logistic_reports"
   ]
  },
  {
   "cell_type": "code",
   "execution_count": null,
   "metadata": {},
   "outputs": [],
   "source": []
  },
  {
   "cell_type": "markdown",
   "metadata": {},
   "source": [
    "### Logistic regression summary\n",
    "\n",
    "We note that the best performance for our model uses only delayed as an input parameter, and produces an f1-score of 0.88 for the \"0\" or no default case and 0.34 for the \"1\" or default case.\n",
    "\n",
    "The KNN model is slightly better than the logistic regression model, but not materially so. We note that this model has some value, but 0.34 is not good enough to make a decision about credit or to be actionable. "
   ]
  },
  {
   "cell_type": "markdown",
   "metadata": {},
   "source": [
    "# Using a decision tree\n",
    "Next, we considered whether a decision tree algorithm might offer additional insight. We concluded that the decision tree algorithm was worthwhile, even if quite leafy."
   ]
  },
  {
   "cell_type": "code",
   "execution_count": 101,
   "metadata": {},
   "outputs": [],
   "source": [
    "from sklearn.metrics import confusion_matrix\n",
    "from sklearn.metrics import classification_report\n",
    "from sklearn.model_selection import train_test_split\n",
    "from sklearn.linear_model import LogisticRegression\n",
    "from sklearn.preprocessing import StandardScaler\n",
    "from sklearn.neighbors import KNeighborsClassifier\n",
    "from sklearn import tree\n",
    "from sklearn.preprocessing import StandardScaler\n",
    "from sklearn.pipeline import Pipeline\n",
    "from sklearn.impute import SimpleImputer\n",
    "from sklearn.ensemble import RandomForestClassifier\n",
    "from sklearn.decomposition import PCA\n",
    "from sklearn.metrics import confusion_matrix, accuracy_score, classification_report\n",
    "import pandas as pd\n",
    "from sklearn.linear_model import LinearRegression\n",
    "from sklearn.metrics import mean_squared_error, r2_score\n",
    "import numpy as np"
   ]
  },
  {
   "cell_type": "code",
   "execution_count": 102,
   "metadata": {},
   "outputs": [],
   "source": [
    "df = pd.read_csv('credit.csv',index_col=\"id\")"
   ]
  },
  {
   "cell_type": "code",
   "execution_count": 103,
   "metadata": {},
   "outputs": [
    {
     "data": {
      "text/html": [
       "<div>\n",
       "<style scoped>\n",
       "    .dataframe tbody tr th:only-of-type {\n",
       "        vertical-align: middle;\n",
       "    }\n",
       "\n",
       "    .dataframe tbody tr th {\n",
       "        vertical-align: top;\n",
       "    }\n",
       "\n",
       "    .dataframe thead th {\n",
       "        text-align: right;\n",
       "    }\n",
       "</style>\n",
       "<table border=\"1\" class=\"dataframe\">\n",
       "  <thead>\n",
       "    <tr style=\"text-align: right;\">\n",
       "      <th></th>\n",
       "      <th>credit</th>\n",
       "      <th>delayed</th>\n",
       "      <th>amount</th>\n",
       "      <th>gender</th>\n",
       "      <th>education</th>\n",
       "      <th>age</th>\n",
       "      <th>marital</th>\n",
       "      <th>default</th>\n",
       "    </tr>\n",
       "    <tr>\n",
       "      <th>id</th>\n",
       "      <th></th>\n",
       "      <th></th>\n",
       "      <th></th>\n",
       "      <th></th>\n",
       "      <th></th>\n",
       "      <th></th>\n",
       "      <th></th>\n",
       "      <th></th>\n",
       "    </tr>\n",
       "  </thead>\n",
       "  <tbody>\n",
       "    <tr>\n",
       "      <th>25780</th>\n",
       "      <td>180000</td>\n",
       "      <td>2</td>\n",
       "      <td>699</td>\n",
       "      <td>Female</td>\n",
       "      <td>graduate school</td>\n",
       "      <td>39</td>\n",
       "      <td>married</td>\n",
       "      <td>1.00</td>\n",
       "    </tr>\n",
       "    <tr>\n",
       "      <th>7679</th>\n",
       "      <td>50000</td>\n",
       "      <td>0</td>\n",
       "      <td>15925</td>\n",
       "      <td>Female</td>\n",
       "      <td>graduate school</td>\n",
       "      <td>25</td>\n",
       "      <td>single</td>\n",
       "      <td>0.00</td>\n",
       "    </tr>\n",
       "    <tr>\n",
       "      <th>19690</th>\n",
       "      <td>210000</td>\n",
       "      <td>1</td>\n",
       "      <td>0</td>\n",
       "      <td>Male</td>\n",
       "      <td>univeristy</td>\n",
       "      <td>35</td>\n",
       "      <td>single</td>\n",
       "      <td>0.00</td>\n",
       "    </tr>\n",
       "    <tr>\n",
       "      <th>906</th>\n",
       "      <td>50000</td>\n",
       "      <td>0</td>\n",
       "      <td>26889</td>\n",
       "      <td>Female</td>\n",
       "      <td>univeristy</td>\n",
       "      <td>38</td>\n",
       "      <td>married</td>\n",
       "      <td>0.00</td>\n",
       "    </tr>\n",
       "    <tr>\n",
       "      <th>191</th>\n",
       "      <td>50000</td>\n",
       "      <td>4</td>\n",
       "      <td>276076</td>\n",
       "      <td>Female</td>\n",
       "      <td>univeristy</td>\n",
       "      <td>24</td>\n",
       "      <td>single</td>\n",
       "      <td>0.00</td>\n",
       "    </tr>\n",
       "  </tbody>\n",
       "</table>\n",
       "</div>"
      ],
      "text/plain": [
       "       credit  delayed  amount  gender        education  age  marital  default\n",
       "id                                                                            \n",
       "25780  180000        2     699  Female  graduate school   39  married     1.00\n",
       "7679    50000        0   15925  Female  graduate school   25   single     0.00\n",
       "19690  210000        1       0    Male       univeristy   35   single     0.00\n",
       "906     50000        0   26889  Female       univeristy   38  married     0.00\n",
       "191     50000        4  276076  Female       univeristy   24   single     0.00"
      ]
     },
     "execution_count": 103,
     "metadata": {},
     "output_type": "execute_result"
    }
   ],
   "source": [
    "df.head()"
   ]
  },
  {
   "cell_type": "code",
   "execution_count": 104,
   "metadata": {},
   "outputs": [
    {
     "data": {
      "text/html": [
       "<div>\n",
       "<style scoped>\n",
       "    .dataframe tbody tr th:only-of-type {\n",
       "        vertical-align: middle;\n",
       "    }\n",
       "\n",
       "    .dataframe tbody tr th {\n",
       "        vertical-align: top;\n",
       "    }\n",
       "\n",
       "    .dataframe thead th {\n",
       "        text-align: right;\n",
       "    }\n",
       "</style>\n",
       "<table border=\"1\" class=\"dataframe\">\n",
       "  <thead>\n",
       "    <tr style=\"text-align: right;\">\n",
       "      <th></th>\n",
       "      <th>credit</th>\n",
       "      <th>delayed</th>\n",
       "      <th>amount</th>\n",
       "      <th>age</th>\n",
       "      <th>default</th>\n",
       "    </tr>\n",
       "  </thead>\n",
       "  <tbody>\n",
       "    <tr>\n",
       "      <th>credit</th>\n",
       "      <td>1.00</td>\n",
       "      <td>-0.23</td>\n",
       "      <td>0.26</td>\n",
       "      <td>0.15</td>\n",
       "      <td>-0.15</td>\n",
       "    </tr>\n",
       "    <tr>\n",
       "      <th>delayed</th>\n",
       "      <td>-0.23</td>\n",
       "      <td>1.00</td>\n",
       "      <td>0.04</td>\n",
       "      <td>-0.01</td>\n",
       "      <td>0.38</td>\n",
       "    </tr>\n",
       "    <tr>\n",
       "      <th>amount</th>\n",
       "      <td>0.26</td>\n",
       "      <td>0.04</td>\n",
       "      <td>1.00</td>\n",
       "      <td>0.05</td>\n",
       "      <td>0.00</td>\n",
       "    </tr>\n",
       "    <tr>\n",
       "      <th>age</th>\n",
       "      <td>0.15</td>\n",
       "      <td>-0.01</td>\n",
       "      <td>0.05</td>\n",
       "      <td>1.00</td>\n",
       "      <td>0.01</td>\n",
       "    </tr>\n",
       "    <tr>\n",
       "      <th>default</th>\n",
       "      <td>-0.15</td>\n",
       "      <td>0.38</td>\n",
       "      <td>0.00</td>\n",
       "      <td>0.01</td>\n",
       "      <td>1.00</td>\n",
       "    </tr>\n",
       "  </tbody>\n",
       "</table>\n",
       "</div>"
      ],
      "text/plain": [
       "         credit  delayed  amount   age  default\n",
       "credit     1.00    -0.23    0.26  0.15    -0.15\n",
       "delayed   -0.23     1.00    0.04 -0.01     0.38\n",
       "amount     0.26     0.04    1.00  0.05     0.00\n",
       "age        0.15    -0.01    0.05  1.00     0.01\n",
       "default   -0.15     0.38    0.00  0.01     1.00"
      ]
     },
     "execution_count": 104,
     "metadata": {},
     "output_type": "execute_result"
    }
   ],
   "source": [
    "df.corr()"
   ]
  },
  {
   "cell_type": "code",
   "execution_count": 105,
   "metadata": {},
   "outputs": [],
   "source": [
    "df = pd.get_dummies(df)"
   ]
  },
  {
   "cell_type": "code",
   "execution_count": 106,
   "metadata": {},
   "outputs": [
    {
     "data": {
      "text/html": [
       "<div>\n",
       "<style scoped>\n",
       "    .dataframe tbody tr th:only-of-type {\n",
       "        vertical-align: middle;\n",
       "    }\n",
       "\n",
       "    .dataframe tbody tr th {\n",
       "        vertical-align: top;\n",
       "    }\n",
       "\n",
       "    .dataframe thead th {\n",
       "        text-align: right;\n",
       "    }\n",
       "</style>\n",
       "<table border=\"1\" class=\"dataframe\">\n",
       "  <thead>\n",
       "    <tr style=\"text-align: right;\">\n",
       "      <th></th>\n",
       "      <th>credit</th>\n",
       "      <th>delayed</th>\n",
       "      <th>amount</th>\n",
       "      <th>age</th>\n",
       "      <th>default</th>\n",
       "      <th>gender_Female</th>\n",
       "      <th>gender_Male</th>\n",
       "      <th>education_graduate school</th>\n",
       "      <th>education_highschool</th>\n",
       "      <th>education_univeristy</th>\n",
       "      <th>marital_married</th>\n",
       "      <th>marital_single</th>\n",
       "    </tr>\n",
       "    <tr>\n",
       "      <th>id</th>\n",
       "      <th></th>\n",
       "      <th></th>\n",
       "      <th></th>\n",
       "      <th></th>\n",
       "      <th></th>\n",
       "      <th></th>\n",
       "      <th></th>\n",
       "      <th></th>\n",
       "      <th></th>\n",
       "      <th></th>\n",
       "      <th></th>\n",
       "      <th></th>\n",
       "    </tr>\n",
       "  </thead>\n",
       "  <tbody>\n",
       "    <tr>\n",
       "      <th>25780</th>\n",
       "      <td>180000</td>\n",
       "      <td>2</td>\n",
       "      <td>699</td>\n",
       "      <td>39</td>\n",
       "      <td>1.00</td>\n",
       "      <td>1</td>\n",
       "      <td>0</td>\n",
       "      <td>1</td>\n",
       "      <td>0</td>\n",
       "      <td>0</td>\n",
       "      <td>1</td>\n",
       "      <td>0</td>\n",
       "    </tr>\n",
       "    <tr>\n",
       "      <th>7679</th>\n",
       "      <td>50000</td>\n",
       "      <td>0</td>\n",
       "      <td>15925</td>\n",
       "      <td>25</td>\n",
       "      <td>0.00</td>\n",
       "      <td>1</td>\n",
       "      <td>0</td>\n",
       "      <td>1</td>\n",
       "      <td>0</td>\n",
       "      <td>0</td>\n",
       "      <td>0</td>\n",
       "      <td>1</td>\n",
       "    </tr>\n",
       "    <tr>\n",
       "      <th>19690</th>\n",
       "      <td>210000</td>\n",
       "      <td>1</td>\n",
       "      <td>0</td>\n",
       "      <td>35</td>\n",
       "      <td>0.00</td>\n",
       "      <td>0</td>\n",
       "      <td>1</td>\n",
       "      <td>0</td>\n",
       "      <td>0</td>\n",
       "      <td>1</td>\n",
       "      <td>0</td>\n",
       "      <td>1</td>\n",
       "    </tr>\n",
       "    <tr>\n",
       "      <th>906</th>\n",
       "      <td>50000</td>\n",
       "      <td>0</td>\n",
       "      <td>26889</td>\n",
       "      <td>38</td>\n",
       "      <td>0.00</td>\n",
       "      <td>1</td>\n",
       "      <td>0</td>\n",
       "      <td>0</td>\n",
       "      <td>0</td>\n",
       "      <td>1</td>\n",
       "      <td>1</td>\n",
       "      <td>0</td>\n",
       "    </tr>\n",
       "    <tr>\n",
       "      <th>191</th>\n",
       "      <td>50000</td>\n",
       "      <td>4</td>\n",
       "      <td>276076</td>\n",
       "      <td>24</td>\n",
       "      <td>0.00</td>\n",
       "      <td>1</td>\n",
       "      <td>0</td>\n",
       "      <td>0</td>\n",
       "      <td>0</td>\n",
       "      <td>1</td>\n",
       "      <td>0</td>\n",
       "      <td>1</td>\n",
       "    </tr>\n",
       "  </tbody>\n",
       "</table>\n",
       "</div>"
      ],
      "text/plain": [
       "       credit  delayed  amount  age  default  gender_Female  gender_Male  \\\n",
       "id                                                                         \n",
       "25780  180000        2     699   39     1.00              1            0   \n",
       "7679    50000        0   15925   25     0.00              1            0   \n",
       "19690  210000        1       0   35     0.00              0            1   \n",
       "906     50000        0   26889   38     0.00              1            0   \n",
       "191     50000        4  276076   24     0.00              1            0   \n",
       "\n",
       "       education_graduate school  education_highschool  education_univeristy  \\\n",
       "id                                                                             \n",
       "25780                          1                     0                     0   \n",
       "7679                           1                     0                     0   \n",
       "19690                          0                     0                     1   \n",
       "906                            0                     0                     1   \n",
       "191                            0                     0                     1   \n",
       "\n",
       "       marital_married  marital_single  \n",
       "id                                      \n",
       "25780                1               0  \n",
       "7679                 0               1  \n",
       "19690                0               1  \n",
       "906                  1               0  \n",
       "191                  0               1  "
      ]
     },
     "execution_count": 106,
     "metadata": {},
     "output_type": "execute_result"
    }
   ],
   "source": [
    "df.head()"
   ]
  },
  {
   "cell_type": "code",
   "execution_count": 107,
   "metadata": {},
   "outputs": [
    {
     "data": {
      "text/plain": [
       "credit                        0\n",
       "delayed                       0\n",
       "amount                        0\n",
       "age                           0\n",
       "default                      20\n",
       "gender_Female                 0\n",
       "gender_Male                   0\n",
       "education_graduate school     0\n",
       "education_highschool          0\n",
       "education_univeristy          0\n",
       "marital_married               0\n",
       "marital_single                0\n",
       "dtype: int64"
      ]
     },
     "execution_count": 107,
     "metadata": {},
     "output_type": "execute_result"
    }
   ],
   "source": [
    "df.isnull().sum()"
   ]
  },
  {
   "cell_type": "code",
   "execution_count": 108,
   "metadata": {},
   "outputs": [],
   "source": [
    "df.dropna(inplace=True)"
   ]
  },
  {
   "cell_type": "code",
   "execution_count": 109,
   "metadata": {},
   "outputs": [
    {
     "data": {
      "text/html": [
       "<div>\n",
       "<style scoped>\n",
       "    .dataframe tbody tr th:only-of-type {\n",
       "        vertical-align: middle;\n",
       "    }\n",
       "\n",
       "    .dataframe tbody tr th {\n",
       "        vertical-align: top;\n",
       "    }\n",
       "\n",
       "    .dataframe thead th {\n",
       "        text-align: right;\n",
       "    }\n",
       "</style>\n",
       "<table border=\"1\" class=\"dataframe\">\n",
       "  <thead>\n",
       "    <tr style=\"text-align: right;\">\n",
       "      <th></th>\n",
       "      <th>credit</th>\n",
       "      <th>delayed</th>\n",
       "      <th>amount</th>\n",
       "      <th>age</th>\n",
       "      <th>default</th>\n",
       "      <th>gender_Female</th>\n",
       "      <th>gender_Male</th>\n",
       "      <th>education_graduate school</th>\n",
       "      <th>education_highschool</th>\n",
       "      <th>education_univeristy</th>\n",
       "      <th>marital_married</th>\n",
       "      <th>marital_single</th>\n",
       "    </tr>\n",
       "  </thead>\n",
       "  <tbody>\n",
       "    <tr>\n",
       "      <th>credit</th>\n",
       "      <td>1.00</td>\n",
       "      <td>-0.23</td>\n",
       "      <td>0.26</td>\n",
       "      <td>0.15</td>\n",
       "      <td>-0.15</td>\n",
       "      <td>0.02</td>\n",
       "      <td>-0.02</td>\n",
       "      <td>0.26</td>\n",
       "      <td>-0.14</td>\n",
       "      <td>-0.15</td>\n",
       "      <td>0.10</td>\n",
       "      <td>-0.10</td>\n",
       "    </tr>\n",
       "    <tr>\n",
       "      <th>education_graduate school</th>\n",
       "      <td>0.26</td>\n",
       "      <td>-0.09</td>\n",
       "      <td>-0.02</td>\n",
       "      <td>-0.10</td>\n",
       "      <td>-0.06</td>\n",
       "      <td>-0.02</td>\n",
       "      <td>0.02</td>\n",
       "      <td>1.00</td>\n",
       "      <td>-0.33</td>\n",
       "      <td>-0.72</td>\n",
       "      <td>-0.16</td>\n",
       "      <td>0.16</td>\n",
       "    </tr>\n",
       "    <tr>\n",
       "      <th>gender_Female</th>\n",
       "      <td>0.02</td>\n",
       "      <td>-0.05</td>\n",
       "      <td>-0.03</td>\n",
       "      <td>-0.09</td>\n",
       "      <td>-0.04</td>\n",
       "      <td>1.00</td>\n",
       "      <td>-1.00</td>\n",
       "      <td>-0.02</td>\n",
       "      <td>-0.01</td>\n",
       "      <td>0.03</td>\n",
       "      <td>0.03</td>\n",
       "      <td>-0.03</td>\n",
       "    </tr>\n",
       "    <tr>\n",
       "      <th>marital_single</th>\n",
       "      <td>-0.10</td>\n",
       "      <td>-0.01</td>\n",
       "      <td>-0.02</td>\n",
       "      <td>-0.46</td>\n",
       "      <td>-0.03</td>\n",
       "      <td>-0.03</td>\n",
       "      <td>0.03</td>\n",
       "      <td>0.16</td>\n",
       "      <td>-0.12</td>\n",
       "      <td>-0.06</td>\n",
       "      <td>-1.00</td>\n",
       "      <td>1.00</td>\n",
       "    </tr>\n",
       "    <tr>\n",
       "      <th>amount</th>\n",
       "      <td>0.26</td>\n",
       "      <td>0.04</td>\n",
       "      <td>1.00</td>\n",
       "      <td>0.05</td>\n",
       "      <td>0.00</td>\n",
       "      <td>-0.03</td>\n",
       "      <td>0.03</td>\n",
       "      <td>-0.02</td>\n",
       "      <td>-0.02</td>\n",
       "      <td>0.04</td>\n",
       "      <td>0.02</td>\n",
       "      <td>-0.02</td>\n",
       "    </tr>\n",
       "    <tr>\n",
       "      <th>age</th>\n",
       "      <td>0.15</td>\n",
       "      <td>-0.01</td>\n",
       "      <td>0.05</td>\n",
       "      <td>1.00</td>\n",
       "      <td>0.01</td>\n",
       "      <td>-0.09</td>\n",
       "      <td>0.09</td>\n",
       "      <td>-0.10</td>\n",
       "      <td>0.23</td>\n",
       "      <td>-0.08</td>\n",
       "      <td>0.46</td>\n",
       "      <td>-0.46</td>\n",
       "    </tr>\n",
       "    <tr>\n",
       "      <th>education_univeristy</th>\n",
       "      <td>-0.15</td>\n",
       "      <td>0.05</td>\n",
       "      <td>0.04</td>\n",
       "      <td>-0.08</td>\n",
       "      <td>0.03</td>\n",
       "      <td>0.03</td>\n",
       "      <td>-0.03</td>\n",
       "      <td>-0.72</td>\n",
       "      <td>-0.42</td>\n",
       "      <td>1.00</td>\n",
       "      <td>0.06</td>\n",
       "      <td>-0.06</td>\n",
       "    </tr>\n",
       "    <tr>\n",
       "      <th>education_highschool</th>\n",
       "      <td>-0.14</td>\n",
       "      <td>0.04</td>\n",
       "      <td>-0.02</td>\n",
       "      <td>0.23</td>\n",
       "      <td>0.03</td>\n",
       "      <td>-0.01</td>\n",
       "      <td>0.01</td>\n",
       "      <td>-0.33</td>\n",
       "      <td>1.00</td>\n",
       "      <td>-0.42</td>\n",
       "      <td>0.12</td>\n",
       "      <td>-0.12</td>\n",
       "    </tr>\n",
       "    <tr>\n",
       "      <th>marital_married</th>\n",
       "      <td>0.10</td>\n",
       "      <td>0.01</td>\n",
       "      <td>0.02</td>\n",
       "      <td>0.46</td>\n",
       "      <td>0.03</td>\n",
       "      <td>0.03</td>\n",
       "      <td>-0.03</td>\n",
       "      <td>-0.16</td>\n",
       "      <td>0.12</td>\n",
       "      <td>0.06</td>\n",
       "      <td>1.00</td>\n",
       "      <td>-1.00</td>\n",
       "    </tr>\n",
       "    <tr>\n",
       "      <th>gender_Male</th>\n",
       "      <td>-0.02</td>\n",
       "      <td>0.05</td>\n",
       "      <td>0.03</td>\n",
       "      <td>0.09</td>\n",
       "      <td>0.04</td>\n",
       "      <td>-1.00</td>\n",
       "      <td>1.00</td>\n",
       "      <td>0.02</td>\n",
       "      <td>0.01</td>\n",
       "      <td>-0.03</td>\n",
       "      <td>-0.03</td>\n",
       "      <td>0.03</td>\n",
       "    </tr>\n",
       "    <tr>\n",
       "      <th>delayed</th>\n",
       "      <td>-0.23</td>\n",
       "      <td>1.00</td>\n",
       "      <td>0.04</td>\n",
       "      <td>-0.01</td>\n",
       "      <td>0.38</td>\n",
       "      <td>-0.05</td>\n",
       "      <td>0.05</td>\n",
       "      <td>-0.09</td>\n",
       "      <td>0.04</td>\n",
       "      <td>0.05</td>\n",
       "      <td>0.01</td>\n",
       "      <td>-0.01</td>\n",
       "    </tr>\n",
       "    <tr>\n",
       "      <th>default</th>\n",
       "      <td>-0.15</td>\n",
       "      <td>0.38</td>\n",
       "      <td>0.00</td>\n",
       "      <td>0.01</td>\n",
       "      <td>1.00</td>\n",
       "      <td>-0.04</td>\n",
       "      <td>0.04</td>\n",
       "      <td>-0.06</td>\n",
       "      <td>0.03</td>\n",
       "      <td>0.03</td>\n",
       "      <td>0.03</td>\n",
       "      <td>-0.03</td>\n",
       "    </tr>\n",
       "  </tbody>\n",
       "</table>\n",
       "</div>"
      ],
      "text/plain": [
       "                           credit  delayed  amount   age  default  \\\n",
       "credit                       1.00    -0.23    0.26  0.15    -0.15   \n",
       "education_graduate school    0.26    -0.09   -0.02 -0.10    -0.06   \n",
       "gender_Female                0.02    -0.05   -0.03 -0.09    -0.04   \n",
       "marital_single              -0.10    -0.01   -0.02 -0.46    -0.03   \n",
       "amount                       0.26     0.04    1.00  0.05     0.00   \n",
       "age                          0.15    -0.01    0.05  1.00     0.01   \n",
       "education_univeristy        -0.15     0.05    0.04 -0.08     0.03   \n",
       "education_highschool        -0.14     0.04   -0.02  0.23     0.03   \n",
       "marital_married              0.10     0.01    0.02  0.46     0.03   \n",
       "gender_Male                 -0.02     0.05    0.03  0.09     0.04   \n",
       "delayed                     -0.23     1.00    0.04 -0.01     0.38   \n",
       "default                     -0.15     0.38    0.00  0.01     1.00   \n",
       "\n",
       "                           gender_Female  gender_Male  \\\n",
       "credit                              0.02        -0.02   \n",
       "education_graduate school          -0.02         0.02   \n",
       "gender_Female                       1.00        -1.00   \n",
       "marital_single                     -0.03         0.03   \n",
       "amount                             -0.03         0.03   \n",
       "age                                -0.09         0.09   \n",
       "education_univeristy                0.03        -0.03   \n",
       "education_highschool               -0.01         0.01   \n",
       "marital_married                     0.03        -0.03   \n",
       "gender_Male                        -1.00         1.00   \n",
       "delayed                            -0.05         0.05   \n",
       "default                            -0.04         0.04   \n",
       "\n",
       "                           education_graduate school  education_highschool  \\\n",
       "credit                                          0.26                 -0.14   \n",
       "education_graduate school                       1.00                 -0.33   \n",
       "gender_Female                                  -0.02                 -0.01   \n",
       "marital_single                                  0.16                 -0.12   \n",
       "amount                                         -0.02                 -0.02   \n",
       "age                                            -0.10                  0.23   \n",
       "education_univeristy                           -0.72                 -0.42   \n",
       "education_highschool                           -0.33                  1.00   \n",
       "marital_married                                -0.16                  0.12   \n",
       "gender_Male                                     0.02                  0.01   \n",
       "delayed                                        -0.09                  0.04   \n",
       "default                                        -0.06                  0.03   \n",
       "\n",
       "                           education_univeristy  marital_married  \\\n",
       "credit                                    -0.15             0.10   \n",
       "education_graduate school                 -0.72            -0.16   \n",
       "gender_Female                              0.03             0.03   \n",
       "marital_single                            -0.06            -1.00   \n",
       "amount                                     0.04             0.02   \n",
       "age                                       -0.08             0.46   \n",
       "education_univeristy                       1.00             0.06   \n",
       "education_highschool                      -0.42             0.12   \n",
       "marital_married                            0.06             1.00   \n",
       "gender_Male                               -0.03            -0.03   \n",
       "delayed                                    0.05             0.01   \n",
       "default                                    0.03             0.03   \n",
       "\n",
       "                           marital_single  \n",
       "credit                              -0.10  \n",
       "education_graduate school            0.16  \n",
       "gender_Female                       -0.03  \n",
       "marital_single                       1.00  \n",
       "amount                              -0.02  \n",
       "age                                 -0.46  \n",
       "education_univeristy                -0.06  \n",
       "education_highschool                -0.12  \n",
       "marital_married                     -1.00  \n",
       "gender_Male                          0.03  \n",
       "delayed                             -0.01  \n",
       "default                             -0.03  "
      ]
     },
     "execution_count": 109,
     "metadata": {},
     "output_type": "execute_result"
    }
   ],
   "source": [
    "df.corr().sort_values(by=['default'])"
   ]
  },
  {
   "cell_type": "code",
   "execution_count": 110,
   "metadata": {},
   "outputs": [],
   "source": [
    "# Define features and target variables\n",
    "X = df.drop(['default','credit','amount','age'],axis=1)\n",
    "y = df['default']"
   ]
  },
  {
   "cell_type": "code",
   "execution_count": 111,
   "metadata": {},
   "outputs": [],
   "source": [
    "# Split data into train and test subsets\n",
    "X_train, X_test, y_train, y_test = train_test_split(X, y, test_size = 0.2, random_state=1, stratify=y)"
   ]
  },
  {
   "cell_type": "markdown",
   "metadata": {},
   "source": [
    "Decision Tree"
   ]
  },
  {
   "cell_type": "code",
   "execution_count": 112,
   "metadata": {},
   "outputs": [],
   "source": [
    "# Classify and fit the model\n",
    "DT = tree.DecisionTreeClassifier()\n",
    "DT = DT.fit(X_train, y_train)"
   ]
  },
  {
   "cell_type": "code",
   "execution_count": 113,
   "metadata": {},
   "outputs": [
    {
     "data": {
      "text/plain": [
       "array([0., 0., 0., ..., 0., 0., 0.])"
      ]
     },
     "execution_count": 113,
     "metadata": {},
     "output_type": "execute_result"
    }
   ],
   "source": [
    "# Making predictions using the testing data\n",
    "y_pred = DT.predict(X_test)\n",
    "y_pred"
   ]
  },
  {
   "cell_type": "code",
   "execution_count": 135,
   "metadata": {},
   "outputs": [
    {
     "data": {
      "text/plain": [
       "array([[4275,  252],\n",
       "       [ 908,  394]])"
      ]
     },
     "execution_count": 135,
     "metadata": {},
     "output_type": "execute_result"
    }
   ],
   "source": [
    "# Calculating the confusion matrix\n",
    "cm = confusion_matrix(y_test, y_pred)\n",
    "cm"
   ]
  },
  {
   "cell_type": "code",
   "execution_count": 115,
   "metadata": {},
   "outputs": [
    {
     "data": {
      "text/plain": [
       "0.7951621204323212"
      ]
     },
     "execution_count": 115,
     "metadata": {},
     "output_type": "execute_result"
    }
   ],
   "source": [
    "# Calculating the accuracy score\n",
    "acc_score = accuracy_score(y_test, y_pred)\n",
    "acc_score"
   ]
  },
  {
   "cell_type": "code",
   "execution_count": 137,
   "metadata": {},
   "outputs": [
    {
     "name": "stdout",
     "output_type": "stream",
     "text": [
      "              precision    recall  f1-score   support\n",
      "\n",
      "         0.0       0.82      0.94      0.88      4527\n",
      "         1.0       0.61      0.30      0.40      1302\n",
      "\n",
      "    accuracy                           0.80      5829\n",
      "   macro avg       0.72      0.62      0.64      5829\n",
      "weighted avg       0.78      0.80      0.77      5829\n",
      "\n"
     ]
    }
   ],
   "source": [
    "# Create a classification report\n",
    "cr = classification_report(y_test, y_pred)\n",
    "print(cr)"
   ]
  },
  {
   "cell_type": "markdown",
   "metadata": {},
   "source": [
    "Logistic Regression"
   ]
  },
  {
   "cell_type": "code",
   "execution_count": 117,
   "metadata": {},
   "outputs": [
    {
     "data": {
      "text/plain": [
       "LogisticRegression(max_iter=200, random_state=1)"
      ]
     },
     "execution_count": 117,
     "metadata": {},
     "output_type": "execute_result"
    }
   ],
   "source": [
    "# Create and train LR model\n",
    "classifier = LogisticRegression(solver='lbfgs',\n",
    "                                max_iter=200,\n",
    "                                random_state=1)\n",
    "classifier.fit(X_train, y_train)"
   ]
  },
  {
   "cell_type": "code",
   "execution_count": 118,
   "metadata": {},
   "outputs": [
    {
     "data": {
      "text/html": [
       "<div>\n",
       "<style scoped>\n",
       "    .dataframe tbody tr th:only-of-type {\n",
       "        vertical-align: middle;\n",
       "    }\n",
       "\n",
       "    .dataframe tbody tr th {\n",
       "        vertical-align: top;\n",
       "    }\n",
       "\n",
       "    .dataframe thead th {\n",
       "        text-align: right;\n",
       "    }\n",
       "</style>\n",
       "<table border=\"1\" class=\"dataframe\">\n",
       "  <thead>\n",
       "    <tr style=\"text-align: right;\">\n",
       "      <th></th>\n",
       "      <th>Prediction</th>\n",
       "      <th>Actual</th>\n",
       "    </tr>\n",
       "  </thead>\n",
       "  <tbody>\n",
       "    <tr>\n",
       "      <th>0</th>\n",
       "      <td>0.00</td>\n",
       "      <td>0.00</td>\n",
       "    </tr>\n",
       "    <tr>\n",
       "      <th>1</th>\n",
       "      <td>0.00</td>\n",
       "      <td>0.00</td>\n",
       "    </tr>\n",
       "    <tr>\n",
       "      <th>2</th>\n",
       "      <td>0.00</td>\n",
       "      <td>0.00</td>\n",
       "    </tr>\n",
       "    <tr>\n",
       "      <th>3</th>\n",
       "      <td>0.00</td>\n",
       "      <td>0.00</td>\n",
       "    </tr>\n",
       "    <tr>\n",
       "      <th>4</th>\n",
       "      <td>0.00</td>\n",
       "      <td>1.00</td>\n",
       "    </tr>\n",
       "  </tbody>\n",
       "</table>\n",
       "</div>"
      ],
      "text/plain": [
       "   Prediction  Actual\n",
       "0        0.00    0.00\n",
       "1        0.00    0.00\n",
       "2        0.00    0.00\n",
       "3        0.00    0.00\n",
       "4        0.00    1.00"
      ]
     },
     "execution_count": 118,
     "metadata": {},
     "output_type": "execute_result"
    }
   ],
   "source": [
    "# Execute LR predictions\n",
    "predictions = classifier.predict(X_test)\n",
    "results = pd.DataFrame({\"Prediction\": predictions, \"Actual\": y_test}).reset_index(drop=True)\n",
    "results.head()"
   ]
  },
  {
   "cell_type": "code",
   "execution_count": 133,
   "metadata": {},
   "outputs": [
    {
     "data": {
      "text/plain": [
       "array([[4375,  152],\n",
       "       [1008,  294]])"
      ]
     },
     "execution_count": 133,
     "metadata": {},
     "output_type": "execute_result"
    }
   ],
   "source": [
    "# Create a confusion matrix\n",
    "cm = confusion_matrix(y_test, predictions)\n",
    "cm"
   ]
  },
  {
   "cell_type": "code",
   "execution_count": 138,
   "metadata": {},
   "outputs": [
    {
     "name": "stdout",
     "output_type": "stream",
     "text": [
      "              precision    recall  f1-score   support\n",
      "\n",
      "         0.0       0.81      0.97      0.88      4527\n",
      "         1.0       0.66      0.23      0.34      1302\n",
      "\n",
      "    accuracy                           0.80      5829\n",
      "   macro avg       0.74      0.60      0.61      5829\n",
      "weighted avg       0.78      0.80      0.76      5829\n",
      "\n"
     ]
    }
   ],
   "source": [
    "# Create a classification report\n",
    "cr = classification_report(y_test,predictions)\n",
    "print(cr)"
   ]
  },
  {
   "cell_type": "markdown",
   "metadata": {},
   "source": [
    "### Simplifying our decision tree\n",
    "\n",
    "Interestingly, as we experiment with different input parameters, we find we get the best results with a single input parameter -- delay. See below."
   ]
  },
  {
   "cell_type": "code",
   "execution_count": 121,
   "metadata": {},
   "outputs": [],
   "source": [
    "df = pd.read_csv('credit.csv',index_col=\"id\")\n",
    "df = pd.get_dummies(df)\n",
    "df.dropna(inplace=True)\n",
    "df.corr().sort_values(by=['default'])\n",
    "\n",
    "# Define features and target variables\n",
    "X = df['delayed']\n",
    "y = df['default']\n",
    "\n",
    "# Split data into train and test subsets\n",
    "X_train, X_test, y_train, y_test = train_test_split(X, y, test_size = 0.2, random_state=1, stratify=y)\n",
    "X_train = X_train.values.reshape(-1,1)\n",
    "X_test = X_test.values.reshape(-1,1)\n",
    "\n",
    "# Classify and fit the model\n",
    "DT = tree.DecisionTreeClassifier()\n",
    "DT = DT.fit(X_train, y_train)\n",
    "\n"
   ]
  },
  {
   "cell_type": "code",
   "execution_count": 122,
   "metadata": {},
   "outputs": [
    {
     "data": {
      "text/plain": [
       "array([0., 0., 0., ..., 1., 0., 0.])"
      ]
     },
     "execution_count": 122,
     "metadata": {},
     "output_type": "execute_result"
    }
   ],
   "source": [
    "# Making predictions using the testing data\n",
    "y_pred = DT.predict(X_test)\n",
    "y_pred\n",
    "\n"
   ]
  },
  {
   "cell_type": "code",
   "execution_count": 123,
   "metadata": {},
   "outputs": [
    {
     "data": {
      "text/plain": [
       "array([[4275,  252],\n",
       "       [ 908,  394]])"
      ]
     },
     "execution_count": 123,
     "metadata": {},
     "output_type": "execute_result"
    }
   ],
   "source": [
    "# Calculating the confusion matrix\n",
    "cm = confusion_matrix(y_test, y_pred)\n",
    "cm\n"
   ]
  },
  {
   "cell_type": "code",
   "execution_count": 124,
   "metadata": {},
   "outputs": [
    {
     "data": {
      "text/plain": [
       "0.8009950248756219"
      ]
     },
     "execution_count": 124,
     "metadata": {},
     "output_type": "execute_result"
    }
   ],
   "source": [
    "# Calculating the accuracy score\n",
    "acc_score = accuracy_score(y_test, y_pred)\n",
    "acc_score\n"
   ]
  },
  {
   "cell_type": "code",
   "execution_count": 125,
   "metadata": {},
   "outputs": [
    {
     "name": "stdout",
     "output_type": "stream",
     "text": [
      "              precision    recall  f1-score   support\n",
      "\n",
      "         0.0       0.82      0.94      0.88      4527\n",
      "         1.0       0.61      0.30      0.40      1302\n",
      "\n",
      "    accuracy                           0.80      5829\n",
      "   macro avg       0.72      0.62      0.64      5829\n",
      "weighted avg       0.78      0.80      0.77      5829\n",
      "\n"
     ]
    }
   ],
   "source": [
    "# Create a classification report\n",
    "cr = classification_report(y_test, y_pred)\n",
    "print(cr)\n"
   ]
  },
  {
   "cell_type": "markdown",
   "metadata": {},
   "source": [
    "Logistic Regression"
   ]
  },
  {
   "cell_type": "code",
   "execution_count": 127,
   "metadata": {},
   "outputs": [
    {
     "data": {
      "text/plain": [
       "LogisticRegression(max_iter=200, random_state=1)"
      ]
     },
     "execution_count": 127,
     "metadata": {},
     "output_type": "execute_result"
    }
   ],
   "source": [
    "# Create and train LR model\n",
    "classifier = LogisticRegression(solver='lbfgs',\n",
    "                                max_iter=200,\n",
    "                                random_state=1)\n",
    "classifier.fit(X_train, y_train)\n"
   ]
  },
  {
   "cell_type": "code",
   "execution_count": 128,
   "metadata": {},
   "outputs": [
    {
     "data": {
      "text/html": [
       "<div>\n",
       "<style scoped>\n",
       "    .dataframe tbody tr th:only-of-type {\n",
       "        vertical-align: middle;\n",
       "    }\n",
       "\n",
       "    .dataframe tbody tr th {\n",
       "        vertical-align: top;\n",
       "    }\n",
       "\n",
       "    .dataframe thead th {\n",
       "        text-align: right;\n",
       "    }\n",
       "</style>\n",
       "<table border=\"1\" class=\"dataframe\">\n",
       "  <thead>\n",
       "    <tr style=\"text-align: right;\">\n",
       "      <th></th>\n",
       "      <th>Prediction</th>\n",
       "      <th>Actual</th>\n",
       "    </tr>\n",
       "  </thead>\n",
       "  <tbody>\n",
       "    <tr>\n",
       "      <th>0</th>\n",
       "      <td>0.00</td>\n",
       "      <td>0.00</td>\n",
       "    </tr>\n",
       "    <tr>\n",
       "      <th>1</th>\n",
       "      <td>0.00</td>\n",
       "      <td>0.00</td>\n",
       "    </tr>\n",
       "    <tr>\n",
       "      <th>2</th>\n",
       "      <td>0.00</td>\n",
       "      <td>0.00</td>\n",
       "    </tr>\n",
       "    <tr>\n",
       "      <th>3</th>\n",
       "      <td>0.00</td>\n",
       "      <td>0.00</td>\n",
       "    </tr>\n",
       "    <tr>\n",
       "      <th>4</th>\n",
       "      <td>0.00</td>\n",
       "      <td>1.00</td>\n",
       "    </tr>\n",
       "  </tbody>\n",
       "</table>\n",
       "</div>"
      ],
      "text/plain": [
       "   Prediction  Actual\n",
       "0        0.00    0.00\n",
       "1        0.00    0.00\n",
       "2        0.00    0.00\n",
       "3        0.00    0.00\n",
       "4        0.00    1.00"
      ]
     },
     "execution_count": 128,
     "metadata": {},
     "output_type": "execute_result"
    }
   ],
   "source": [
    "# Execute LR predictions\n",
    "predictions = classifier.predict(X_test)\n",
    "results = pd.DataFrame({\"Prediction\": predictions, \"Actual\": y_test}).reset_index(drop=True)\n",
    "results.head()"
   ]
  },
  {
   "cell_type": "code",
   "execution_count": 129,
   "metadata": {},
   "outputs": [
    {
     "data": {
      "text/plain": [
       "array([[4375,  152],\n",
       "       [1008,  294]])"
      ]
     },
     "execution_count": 129,
     "metadata": {},
     "output_type": "execute_result"
    }
   ],
   "source": [
    "# Create a confusion matrix\n",
    "confusion_matrix(y_test, predictions)"
   ]
  },
  {
   "cell_type": "code",
   "execution_count": 141,
   "metadata": {},
   "outputs": [
    {
     "name": "stdout",
     "output_type": "stream",
     "text": [
      "              precision    recall  f1-score   support\n",
      "\n",
      "   No credit       0.81      0.97      0.88      4527\n",
      "      credit       0.66      0.23      0.34      1302\n",
      "\n",
      "    accuracy                           0.80      5829\n",
      "   macro avg       0.74      0.60      0.61      5829\n",
      "weighted avg       0.78      0.80      0.76      5829\n",
      "\n"
     ]
    }
   ],
   "source": [
    "# Create a classification report\n",
    "target_names = [\"No credit\", \"credit\"]\n",
    "cr = classification_report(y_test, predictions,target_names=target_names)\n",
    "print(cr)"
   ]
  },
  {
   "cell_type": "markdown",
   "metadata": {},
   "source": [
    "# Conclusion\n",
    "\n",
    "Having considered a large number of scenarios using KNN, logistic regression, and decision tree, we see that we consistently get the best results with a single input parameter -- delayed. \n",
    "\n",
    "This intuitively makes sense -- the delay in payment is likely a direct indicator of ability or willingness to pay. It reinforces the idea that simplified models can often be more effective.\n",
    "\n",
    "Our data exploration showed that the rate of default amongst the different demographcis only varied slightly, between 19-25%. These variables were not good predicator variables for default. \n",
    "\n",
    "While delayed was the best predictor variable the model was still not very good at determining default.\n",
    "\n",
    "Additional data or variables may bring more value to this model and increase its prediction capability.\n",
    "\n",
    "The rate of false positives and false negatives is too great to use this model as it is now to grant or deny credit.\n",
    "\n",
    "\n"
   ]
  },
  {
   "cell_type": "code",
   "execution_count": null,
   "metadata": {},
   "outputs": [],
   "source": []
  },
  {
   "cell_type": "code",
   "execution_count": null,
   "metadata": {},
   "outputs": [],
   "source": []
  },
  {
   "cell_type": "code",
   "execution_count": null,
   "metadata": {},
   "outputs": [],
   "source": []
  },
  {
   "cell_type": "code",
   "execution_count": null,
   "metadata": {},
   "outputs": [],
   "source": []
  },
  {
   "cell_type": "code",
   "execution_count": null,
   "metadata": {},
   "outputs": [],
   "source": []
  }
 ],
 "metadata": {
  "kernelspec": {
   "display_name": "Python 3 (ipykernel)",
   "language": "python",
   "name": "python3"
  },
  "language_info": {
   "codemirror_mode": {
    "name": "ipython",
    "version": 3
   },
   "file_extension": ".py",
   "mimetype": "text/x-python",
   "name": "python",
   "nbconvert_exporter": "python",
   "pygments_lexer": "ipython3",
   "version": "3.9.12"
  },
  "vscode": {
   "interpreter": {
    "hash": "cec2d5243761ae4372cbb0f3da3a83a4f2a7b4bf4cbcc2071372fef7b16f4e8a"
   }
  }
 },
 "nbformat": 4,
 "nbformat_minor": 2
}
